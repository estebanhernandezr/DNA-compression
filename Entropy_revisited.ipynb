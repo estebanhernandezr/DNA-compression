{
  "nbformat": 4,
  "nbformat_minor": 0,
  "metadata": {
    "colab": {
      "name": "Entropy revisited",
      "provenance": [],
      "collapsed_sections": [],
      "authorship_tag": "ABX9TyP/mRYHc6dyNPs65b0RlTuo",
      "include_colab_link": true
    },
    "kernelspec": {
      "name": "python3",
      "display_name": "Python 3"
    },
    "language_info": {
      "name": "python"
    }
  },
  "cells": [
    {
      "cell_type": "markdown",
      "metadata": {
        "id": "view-in-github",
        "colab_type": "text"
      },
      "source": [
        "<a href=\"https://colab.research.google.com/github/estebanhernandezr/DNA-compression/blob/main/Entropy_revisited.ipynb\" target=\"_parent\"><img src=\"https://colab.research.google.com/assets/colab-badge.svg\" alt=\"Open In Colab\"/></a>"
      ]
    },
    {
      "cell_type": "code",
      "source": [
        "from typing import BinaryIO, Dict, Sequence, Tuple\n",
        "import numpy as np\n",
        "from math import log\n",
        "import matplotlib.pyplot as plt\n",
        "import string\n",
        "import random"
      ],
      "metadata": {
        "id": "NKokaF760eUC"
      },
      "execution_count": null,
      "outputs": []
    },
    {
      "cell_type": "markdown",
      "source": [
        "#Entropy"
      ],
      "metadata": {
        "id": "Ym8idhdAyWKh"
      }
    },
    {
      "cell_type": "markdown",
      "source": [
        "##Hyper-parameters"
      ],
      "metadata": {
        "id": "vZV8M472-Xge"
      }
    },
    {
      "cell_type": "code",
      "source": [
        "base = 2\n",
        "alphabet = ['a', 'b', 'c', 'd', 'e', 'f', 'g', 'h', 'i', 'j',' k', 'l', 'm',\n",
        "            'n', 'o', 'p', 'q', 'r', 's', 't', 'u', 'v', 'x', 'y', 'z']"
      ],
      "metadata": {
        "id": "yxOwD5ek-Wb3"
      },
      "execution_count": null,
      "outputs": []
    },
    {
      "cell_type": "markdown",
      "source": [
        "##Entropy by *Ralph Hartley* (1928)\n",
        "A quantitative measure of information was presented in *Bell System Technical\n",
        "Journal* already 1928 by *Ralph Hartley*: *the information content*, $I_H$, in a\n",
        "message consisting of $n$ characters, each of them chosen from an alphabet\n",
        "of $N$ different symbols, should be proportional to the length $n$ multiplied\n",
        "by some function of the size of the alphabet, $f(N)$, so that $I_H = nf(N)$.\n",
        "\n",
        "The functional form of *the information content* is supported by the argument that if the message is coded using an alphabet of different size $N_0$ resulting in another length $n_0$, then *the information content* should not change: $I_H = n_0f(N_0)$. The function $f$ that preserves the *information content* is $log_K$, where $K$ is an arbitrary base of the logarithm: different $K$ just results in a scaling of *the information content*.\n",
        "\n",
        "Therefore, *Ralph Hartley* formulated *the information content* as\n",
        "$$I_H(n,N)=n\\,log_{K}(N),$$\n",
        "where $n$ is the length of the message and $N$ is the cardinality of the alphabet.\n"
      ],
      "metadata": {
        "id": "eeKTwUfSyesR"
      }
    },
    {
      "cell_type": "code",
      "execution_count": null,
      "metadata": {
        "id": "zEr4Px5tx1Cf"
      },
      "outputs": [],
      "source": [
        "def Message_Hartley_Entropy(message: str, alpha: int) -> float:\n",
        "    entropy_per_message: float = len(message)*log(alpha, base)\n",
        "    return entropy_per_message\n",
        "\n",
        "def Symbol_Hartley_Entropy(message: str, alpha: int) -> float:\n",
        "    entropy_per_message: float = len(message)*log(alpha, base)\n",
        "    entropy_per_symbol: float = entropy_per_message/len(message)\n",
        "    return entropy_per_symbol"
      ]
    },
    {
      "cell_type": "markdown",
      "source": [
        "*Hartley*'s approach, nonetheless, builds upon the worst case escenario: all symbols are equally likely to appear next in the sequence, as we may witness with the *Shannon's information content (generalized) formulation*, in the next subsection.\n",
        "\n",
        "As a matter of fact, the *Hartley's information content* does not depend on the sequence itself, but only on its lenght and the length of the alphabet it was written with: really, not even on the symbols themselves. Indeed, we could have omitted passing the message string to the *Message_Hartley_Entropy* and *Symbol_Hartley_Entropy* functions, as a parameter: it's up to the programmer.\n",
        "\n",
        "The previous is illustrated below."
      ],
      "metadata": {
        "id": "EVrpVXh-BwTm"
      }
    },
    {
      "cell_type": "markdown",
      "source": [
        "**FACT**: Whenever we generate a random sequence of characters, taken from any alphabet, we will always get the same value for the *Hartley's information content* measure, as long as the length of the sequence stays the same as well as the length of the alphabet.\n",
        "\n",
        "Try it yourself..."
      ],
      "metadata": {
        "id": "R29rwiNnE_qp"
      }
    },
    {
      "cell_type": "code",
      "source": [
        "n = 100\n",
        "print('length of the message:', n)\n",
        "print('size of the alphabet:', len(string.ascii_letters), end='\\n\\n')\n",
        "\n",
        "cad = ''.join(random.choice(string.ascii_letters) for _ in range(n))\n",
        "print('sequence:', cad, end='\\n\\n')\n",
        "print('message entropy:', Message_Hartley_Entropy(cad, len(alphabet)))\n",
        "print('symbol entropy:', Symbol_Hartley_Entropy(cad, len(alphabet)))"
      ],
      "metadata": {
        "colab": {
          "base_uri": "https://localhost:8080/"
        },
        "id": "jQcB868V1hg-",
        "outputId": "7e7a8a1b-7613-43ca-eff3-d998161f15b4"
      },
      "execution_count": 79,
      "outputs": [
        {
          "output_type": "stream",
          "name": "stdout",
          "text": [
            "length of the message: 100\n",
            "size of the alphabet: 52\n",
            "\n",
            "sequence: NpTriHrVPYwaIKfYilxDuzBmhCbumzKpTXvSEEuzMcNdUoaSxpJRrhlOgjOOjrfzqnCMCIFkVSgONnVSbIeQHyofmhzBjhtPueyx\n",
            "\n",
            "message entropy: 464.38561897747246\n",
            "symbol entropy: 4.643856189774724\n"
          ]
        }
      ]
    },
    {
      "cell_type": "markdown",
      "source": [
        "Yet, there are a few things worth noting about *Hartley's information content*...\n",
        "\n",
        "Given that the length of the message and the length of the alphabet are the only parameters to it, one may ask: ¿What if the length of the message varies? otherwise ¿What if the length of the alphabet varies?\n",
        "\n",
        "A variable length of alphabet can be coded as follows:"
      ],
      "metadata": {
        "id": "Yl-SXkWLLwhC"
      }
    },
    {
      "cell_type": "code",
      "source": [
        "Message_Hartley_Entropies = []\n",
        "Symbol_Hartley_Entropies = []\n",
        "\n",
        "n = 100\n",
        "\n",
        "cad = ''.join(random.choice(string.ascii_letters) for _ in range(n))\n",
        "for i in range(1, 1000, 1):\n",
        "    Message_Hartley_Entropies.append(Message_Hartley_Entropy(cad, i))\n",
        "    Symbol_Hartley_Entropies.append(Symbol_Hartley_Entropy(cad, i))"
      ],
      "metadata": {
        "id": "sJalc6Po9PAQ"
      },
      "execution_count": 88,
      "outputs": []
    },
    {
      "cell_type": "markdown",
      "source": [
        "Note that we fixed the message length, while the message can be anything, its size is always $n$. On the other side, the length of the alphabet passed to the function varies with the for-loop variable.\n",
        "\n",
        "When the length of the alphabet varies, the next is what we get:"
      ],
      "metadata": {
        "id": "yS2dimKDNCqE"
      }
    },
    {
      "cell_type": "code",
      "source": [
        "plt.plot(Message_Hartley_Entropies)\n",
        "plt.show()\n",
        "plt.plot(Symbol_Hartley_Entropies)\n",
        "plt.show()"
      ],
      "metadata": {
        "colab": {
          "base_uri": "https://localhost:8080/",
          "height": 513
        },
        "id": "VcRXRsTT_K_9",
        "outputId": "fab3d514-da67-4613-82fc-bcde8391498e"
      },
      "execution_count": 90,
      "outputs": [
        {
          "output_type": "display_data",
          "data": {
            "text/plain": [
              "<Figure size 432x288 with 1 Axes>"
            ],
            "image/png": "[encoded data removed]"
          },
          "metadata": {
            "needs_background": "light"
          }
        },
        {
          "output_type": "display_data",
          "data": {
            "text/plain": [
              "<Figure size 432x288 with 1 Axes>"
            ],
            "image/png": "[encoded data removed]"
          },
          "metadata": {
            "needs_background": "light"
          }
        }
      ]
    },
    {
      "cell_type": "code",
      "source": [
        "plt.plot(Symbol_Hartley_Entropies)"
      ],
      "metadata": {
        "colab": {
          "base_uri": "https://localhost:8080/",
          "height": 282
        },
        "id": "Hz-lx56U_UDt",
        "outputId": "a84b8f3f-1f25-46eb-f509-e3e4dd910e78"
      },
      "execution_count": null,
      "outputs": [
        {
          "output_type": "execute_result",
          "data": {
            "text/plain": [
              "[<matplotlib.lines.Line2D at 0x7f78b8d50610>]"
            ]
          },
          "metadata": {},
          "execution_count": 34
        },
        {
          "output_type": "display_data",
          "data": {
            "text/plain": [
              "<Figure size 432x288 with 1 Axes>"
            ],
            "image/png": "[encoded data removed]"
          },
          "metadata": {
            "needs_background": "light"
          }
        }
      ]
    },
    {
      "cell_type": "markdown",
      "source": [
        "##Entropy by *Claude Shannon* (1948)"
      ],
      "metadata": {
        "id": "s26hTLVdyoCw"
      }
    },
    {
      "cell_type": "code",
      "source": [
        ""
      ],
      "metadata": {
        "id": "JouGyPc8y3IH"
      },
      "execution_count": null,
      "outputs": []
    }
  ]
}