{
  "nbformat": 4,
  "nbformat_minor": 0,
  "metadata": {
    "colab": {
      "name": "Entropy revisited",
      "provenance": [],
      "collapsed_sections": [],
      "authorship_tag": "ABX9TyOcsI19qiY/Z4Cp+vGV02JL",
      "include_colab_link": true
    },
    "kernelspec": {
      "name": "python3",
      "display_name": "Python 3"
    },
    "language_info": {
      "name": "python"
    }
  },
  "cells": [
    {
      "cell_type": "markdown",
      "metadata": {
        "id": "view-in-github",
        "colab_type": "text"
      },
      "source": [
        "<a href=\"https://colab.research.google.com/github/estebanhernandezr/DNA-compression/blob/main/Entropy_revisited.ipynb\" target=\"_parent\"><img src=\"https://colab.research.google.com/assets/colab-badge.svg\" alt=\"Open In Colab\"/></a>"
      ]
    },
    {
      "cell_type": "code",
      "source": [
        "from typing import BinaryIO, Dict, Sequence, Tuple\n",
        "import numpy as np\n",
        "from math import log\n",
        "import matplotlib.pyplot as plt\n",
        "import string\n",
        "import random"
      ],
      "metadata": {
        "id": "NKokaF760eUC"
      },
      "execution_count": 1,
      "outputs": []
    },
    {
      "cell_type": "markdown",
      "source": [
        "#Entropy"
      ],
      "metadata": {
        "id": "Ym8idhdAyWKh"
      }
    },
    {
      "cell_type": "markdown",
      "source": [
        "##Hyper-parameters"
      ],
      "metadata": {
        "id": "vZV8M472-Xge"
      }
    },
    {
      "cell_type": "code",
      "source": [
        "base = 2\n",
        "alphabet = ['a', 'b', 'c', 'd', 'e', 'f', 'g', 'h', 'i', 'j',' k', 'l', 'm',\n",
        "            'n', 'o', 'p', 'q', 'r', 's', 't', 'u', 'v', 'x', 'y', 'z']"
      ],
      "metadata": {
        "id": "yxOwD5ek-Wb3"
      },
      "execution_count": 8,
      "outputs": []
    },
    {
      "cell_type": "markdown",
      "source": [
        "##Entropy by *Ralph Hartley* (1928)\n",
        "A quantitative measure of information was presented in *Bell System Technical\n",
        "Journal* already 1928 by *Ralph Hartley*: *the information content*, $I_H$, in a\n",
        "message consisting of $n$ characters, each of them chosen from an alphabet\n",
        "of $N$ different symbols, should be proportional to the length $n$ multiplied\n",
        "by some function of the size of the alphabet, $f(N)$, so that $I_H = nf(N)$.\n",
        "\n",
        "The functional form of *the information content* is supported by the argument that if the message is coded using an alphabet of different size $N_0$ resulting in another length $n_0$, then *the information content* should not change: $I_H = n_0f(N_0)$. The function $f$ that preserves the *information content* is $log_K$, where $K$ is an arbitrary base of the logarithm: different $K$ just results in a scaling of *the information content*.\n",
        "\n",
        "Therefore, *Ralph Hartley* formulated *the information content* as\n",
        "$$I_H(n,N)=n\\,log_{K}(N),$$\n",
        "where $n$ is the length of the message and $N$ is the cardinality of the alphabet.\n"
      ],
      "metadata": {
        "id": "eeKTwUfSyesR"
      }
    },
    {
      "cell_type": "code",
      "execution_count": 3,
      "metadata": {
        "id": "zEr4Px5tx1Cf"
      },
      "outputs": [],
      "source": [
        "def Message_Hartley_Entropy(message: str, alpha: int) -> float:\n",
        "    entropy_per_message: float = len(message)*log(alpha, base)\n",
        "    return entropy_per_message\n",
        "\n",
        "def Symbol_Hartley_Entropy(message: str, alpha: int) -> float:\n",
        "    entropy_per_message: float = len(message)*log(alpha, base)\n",
        "    entropy_per_symbol: float = entropy_per_message/len(message)\n",
        "    return entropy_per_symbol"
      ]
    },
    {
      "cell_type": "markdown",
      "source": [
        "*Hartley*'s approach, nonetheless, builds upon the worst case escenario: all symbols are equally likely to appear next in the sequence, as we may witness with the *Shannon's information content (generalized) formulation*, in the next subsection.\n",
        "\n",
        "As a matter of fact, the *Hartley's information content* does not depend on the sequence itself, but only on its lenght and the length of the alphabet it was written with: really, not even on the symbols themselves. Indeed, we could have omitted passing the message string to the *Message_Hartley_Entropy* and *Symbol_Hartley_Entropy* functions, as a parameter: and we may later.\n",
        "\n",
        "The previous is illustrated below."
      ],
      "metadata": {
        "id": "EVrpVXh-BwTm"
      }
    },
    {
      "cell_type": "markdown",
      "source": [
        "**FACT**: Whenever we generate a random sequence of characters, taken from any alphabet, we will always get the same value for the *Hartley's information content* measure, as long as the length of the sequence stays the same as well as the length of the alphabet.\n",
        "\n",
        "Try it yourself..."
      ],
      "metadata": {
        "id": "R29rwiNnE_qp"
      }
    },
    {
      "cell_type": "code",
      "source": [
        "n = 100\n",
        "print('length of the message:', n)\n",
        "print('size of the alphabet:', len(string.ascii_letters), end='\\n\\n')\n",
        "\n",
        "cad = ''.join(random.choice(string.ascii_letters) for _ in range(n))\n",
        "print('random message:', cad, end='\\n\\n')\n",
        "print('message entropy:', Message_Hartley_Entropy(cad, len(alphabet)))\n",
        "print('symbol entropy:', Symbol_Hartley_Entropy(cad, len(alphabet)))"
      ],
      "metadata": {
        "colab": {
          "base_uri": "https://localhost:8080/"
        },
        "id": "jQcB868V1hg-",
        "outputId": "9f655167-a8b4-44ea-8841-9ea810cbc90b"
      },
      "execution_count": 4,
      "outputs": [
        {
          "output_type": "stream",
          "name": "stdout",
          "text": [
            "length of the message: 100\n",
            "size of the alphabet: 52\n",
            "\n",
            "random message: InqXVjofdqtAWyCxECrCqDeIXGqCvGvfWnLKPnImuSuDQUOnbSQoVrDTpqPVNOEYpDNuKokaavxduBNHRYQYAjQneVEhKRznROQI\n",
            "\n",
            "message entropy: 134.23754829424792\n",
            "symbol entropy: 1.3423754829424792\n"
          ]
        }
      ]
    },
    {
      "cell_type": "markdown",
      "source": [
        "As a matter of fact, here is some subtle detail that is worth noting: different values for the base $K$ results just in a scaling of the *Hartley's information content*. We show this by interpretating $K$ in terms of combinatory.\n",
        "\n",
        "What we got is a scaling of a logaritmic function for the *Hartley's information content* in the message: the scaling factor is the length of the message; the logaritmic function, the *Hartley's information content* per symbol, depends not only on the size of the alphabet, but also on the base $K$. Indeed, we would like to generate $N$ different symbols with an alphabet of $K$ symbols (encode). For that end, note that\n",
        "$$N=K^{log_{K}(N)}.$$\n",
        "In this context, the quantity $log_{K}(N)$ is interpreted as the exact number of *placeholders* needed to form $N$ different combinations with $K$ symbols.  \n",
        "\n",
        "By the *pigeonhole principle*, if $K<N$, then at least one of the $N$ symbols must be encoded with two or more of the $K$ symbols *i.e* the number of *placeholders*, $log_{K}(N)$, must be grater or equal than $2$, in order to asign each symbol a unique code. For fixed $K$, $log_{K}(N)$ is an increasing function of $N$. However, for $N'>N$, one can match combinations of two or more symbols from the smaller alphabet to the remaining unmatched $N'-N$ symbols in the larger alphabet. Therefore, the number of *placeholders*, $log_{K}(N)$, increase, but at the same time, the message itself can be written in the new alphabet with less symbols: since combinations of symbols in the smaller alphabet can be written as only one symbol from the larger alphabet. So, there will be more *placeholders* per symbol, but less symbols, in the code."
      ],
      "metadata": {
        "id": "Yl-SXkWLLwhC"
      }
    },
    {
      "cell_type": "markdown",
      "source": [
        "The most straightforward way to illustrate this is with the powers of a given alphabet size $N$: $N^{2}$, $N^{3}$, ..., $N^{p}$. For the sizes of alphabet therein you can interpolate safely, as long as $log_{K}(⋅)$ is an monotically increasing function of its argument. In this case, all $N$ symbols of the smaller alphabet are asigned to the \"first\" $N$ symbols of the larger alphabet. Then, the remaining $N^{p-1}$ symbols in the larger alphabet can be matched with all the $p$-length combinations of symbols from the smaller alphabet. This reduces the length of the message from $n$ symbols to $\\frac{n}{p-1}$."
      ],
      "metadata": {
        "id": "tbZhIpDEqtW_"
      }
    },
    {
      "cell_type": "markdown",
      "source": [
        "(Now that we have understood the physical meaning behind the parameters of the entropy functions, we can start working with the mathematical definition itself, while keeping that in mind. For this end, we redefine the *information content* functions above into a more general formulation, where the parameters of the functions are not restricted to their physical meaning.)"
      ],
      "metadata": {
        "id": "9VcvrJG3tLqz"
      }
    },
    {
      "cell_type": "code",
      "source": [
        "def Message_Hartley_Entropy_generalized(n: float, alpha: int) -> float:\n",
        "    entropy_per_message: float = n*log(alpha, base)\n",
        "    return entropy_per_message\n",
        "\n",
        "def Symbol_Hartley_Entropy_generalized(n: float, alpha: int) -> float:\n",
        "    entropy_per_message: float = n*log(alpha, base)\n",
        "    entropy_per_symbol: float = entropy_per_message/n\n",
        "    return entropy_per_symbol"
      ],
      "metadata": {
        "id": "p33o0QhWnzkm"
      },
      "execution_count": 35,
      "outputs": []
    },
    {
      "cell_type": "markdown",
      "source": [
        "Try it yourself..."
      ],
      "metadata": {
        "id": "lTOisQX0te3v"
      }
    },
    {
      "cell_type": "code",
      "source": [
        "Message_Hartley_Entropies = []\n",
        "Symbol_Hartley_Entropies = []\n",
        "Sizes_of_alphabet = []\n",
        "\n",
        "n = 60\n",
        "\n",
        "powers = 30\n",
        "for size in range(1, powers, 1):\n",
        "    #Message_Hartley_Entropies.append((n/size)*log(n**size, base))\n",
        "    Message_Hartley_Entropies.append(Message_Hartley_Entropy_generalized(n/size, n**size))\n",
        "    Symbol_Hartley_Entropies.append(Symbol_Hartley_Entropy_generalized(n/size, n**size))\n",
        "    Sizes_of_alphabet.append(n/size)"
      ],
      "metadata": {
        "id": "sJalc6Po9PAQ"
      },
      "execution_count": 38,
      "outputs": []
    },
    {
      "cell_type": "code",
      "source": [
        "plt.title('MESSAGE entropy VS SIZE of alphabet')\n",
        "plt.xlabel('SIZE of alphabet (power)')\n",
        "plt.ylabel('MESSAGE entropy')\n",
        "plt.plot(Message_Hartley_Entropies)\n",
        "plt.show()\n",
        "plt.title('SYMBOL entropy VS SIZE of alphabet')\n",
        "plt.xlabel('SIZE of alphabet (power)')\n",
        "plt.ylabel('SYMBOL entropy')\n",
        "plt.plot(Symbol_Hartley_Entropies)\n",
        "plt.show()\n",
        "plt.title('LENGTH of message VS SIZE of alphabet')\n",
        "plt.xlabel('SIZE of alphabet (power)')\n",
        "plt.ylabel('LENGTH of message')\n",
        "plt.plot(Sizes_of_alphabet)\n",
        "plt.show()"
      ],
      "metadata": {
        "colab": {
          "base_uri": "https://localhost:8080/",
          "height": 851
        },
        "id": "VcRXRsTT_K_9",
        "outputId": "14e28ea4-9c54-4e14-dd44-72ca877a6f65"
      },
      "execution_count": 39,
      "outputs": [
        {
          "output_type": "display_data",
          "data": {
            "text/plain": [
              "<Figure size 432x288 with 1 Axes>"
            ],
            "image/png": "[encoded data removed]"
          },
          "metadata": {
            "needs_background": "light"
          }
        },
        {
          "output_type": "display_data",
          "data": {
            "text/plain": [
              "<Figure size 432x288 with 1 Axes>"
            ],
            "image/png": "[encoded data removed]"
          },
          "metadata": {
            "needs_background": "light"
          }
        },
        {
          "output_type": "display_data",
          "data": {
            "text/plain": [
              "<Figure size 432x288 with 1 Axes>"
            ],
            "image/png": "[encoded data removed]"
          },
          "metadata": {
            "needs_background": "light"
          }
        }
      ]
    },
    {
      "cell_type": "markdown",
      "source": [
        "As expected, what we can see here is that, $log_{K}(N)$, interpreted as the number of *placeholders* increases with, $N$, interpreted as the power of the alphabet size: more symbols to enconde require more *placeholders* in the code. While, the length of the message decreases with $N$. This is the reason why they all have the same entropy per message, even when they have a different entropy per symbol. Indeed, the number of *placeholders* and the entropy per symbol balance themselves: when one increases, the other decreases, to mantain the same entropy per message throughout changes on the size of the alphabet."
      ],
      "metadata": {
        "id": "N9QoSZpp8vYJ"
      }
    },
    {
      "cell_type": "markdown",
      "source": [
        "You can try chaging the *base* hyperparameter defined at the top cell and see that the shape of the curves does not change, but only the scale of the *y-axis*."
      ],
      "metadata": {
        "id": "jqPGLT_6j9Iq"
      }
    },
    {
      "cell_type": "markdown",
      "source": [
        "##Entropy by *Claude Shannon* (1948)"
      ],
      "metadata": {
        "id": "s26hTLVdyoCw"
      }
    },
    {
      "cell_type": "code",
      "source": [
        ""
      ],
      "metadata": {
        "id": "JouGyPc8y3IH"
      },
      "execution_count": 7,
      "outputs": []
    }
  ]
}