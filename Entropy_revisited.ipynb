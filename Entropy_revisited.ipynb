{
  "nbformat": 4,
  "nbformat_minor": 0,
  "metadata": {
    "colab": {
      "name": "Entropy revisited",
      "provenance": [],
      "collapsed_sections": [],
      "authorship_tag": "ABX9TyOk9dw8lMuaGPRyhStZcr2l",
      "include_colab_link": true
    },
    "kernelspec": {
      "name": "python3",
      "display_name": "Python 3"
    },
    "language_info": {
      "name": "python"
    }
  },
  "cells": [
    {
      "cell_type": "markdown",
      "metadata": {
        "id": "view-in-github",
        "colab_type": "text"
      },
      "source": [
        "<a href=\"https://colab.research.google.com/github/estebanhernandezr/DNA-compression/blob/master/Entropy_revisited.ipynb\" target=\"_parent\"><img src=\"https://colab.research.google.com/assets/colab-badge.svg\" alt=\"Open In Colab\"/></a>"
      ]
    },
    {
      "cell_type": "code",
      "source": [
        "from typing import BinaryIO, Dict, Sequence, Tuple\n",
        "import numpy as np\n",
        "from math import log\n",
        "import matplotlib.pyplot as plt\n",
        "import string\n",
        "import random"
      ],
      "metadata": {
        "id": "NKokaF760eUC"
      },
      "execution_count": 1,
      "outputs": []
    },
    {
      "cell_type": "markdown",
      "source": [
        "#Entropy"
      ],
      "metadata": {
        "id": "Ym8idhdAyWKh"
      }
    },
    {
      "cell_type": "markdown",
      "source": [
        "##Hyper-parameters"
      ],
      "metadata": {
        "id": "vZV8M472-Xge"
      }
    },
    {
      "cell_type": "code",
      "source": [
        "base = 2\n",
        "alphabet = ['a', 'b', 'c', 'd', 'e', 'f', 'g', 'h', 'i', 'j',' k', 'l', 'm',\n",
        "            'n', 'o', 'p', 'q', 'r', 's', 't', 'u', 'v', 'x', 'y', 'z']"
      ],
      "metadata": {
        "id": "yxOwD5ek-Wb3"
      },
      "execution_count": 2,
      "outputs": []
    },
    {
      "cell_type": "markdown",
      "source": [
        "##Entropy by *Ralph Hartley* (1928)\n",
        "A quantitative measure of information was presented in *Bell System Technical\n",
        "Journal* already 1928 by *Ralph Hartley*: *the information content*, $I_H$, in a\n",
        "message consisting of $n$ characters, each of them chosen from an alphabet\n",
        "of $N$ different symbols, should be proportional to the length $n$ multiplied\n",
        "by some function of the size of the alphabet, $f(N)$, so that $I_H = nf(N)$.\n",
        "\n",
        "The functional form of *the information content* is supported by the argument that if the message is coded using an alphabet of different size $N_0$ resulting in another length $n_0$, then *the information content* should not change: $I_H = n_0f(N_0)$. The function $f$ that preserves the *information content* is $log_K$, where $K$ is an arbitrary base of the logarithm: different $K$ just results in a scaling of *the information content*.\n",
        "\n",
        "Therefore, *Ralph Hartley* formulated *the information content* as\n",
        "$$I_H(n,N)=n\\,log_{K}(N),$$\n",
        "where $n$ is the length of the message and $N$ is the cardinality of the alphabet.\n"
      ],
      "metadata": {
        "id": "eeKTwUfSyesR"
      }
    },
    {
      "cell_type": "code",
      "execution_count": 3,
      "metadata": {
        "id": "zEr4Px5tx1Cf"
      },
      "outputs": [],
      "source": [
        "def Message_Hartley_Entropy(message: str, alpha: int) -> float:\n",
        "    entropy_per_message: float = len(message)*log(alpha, base)\n",
        "    return entropy_per_message\n",
        "\n",
        "def Symbol_Hartley_Entropy(message: str, alpha: int) -> float:\n",
        "    entropy_per_message: float = len(message)*log(alpha, base)\n",
        "    entropy_per_symbol: float = entropy_per_message/len(message)\n",
        "    return entropy_per_symbol"
      ]
    },
    {
      "cell_type": "markdown",
      "source": [
        "*Hartley*'s approach, nonetheless, builds upon the worst case escenario: all symbols are equally likely to appear next in the sequence, as we may witness with the *Shannon's information content (generalized) formulation*, in the next subsection.\n",
        "\n",
        "As a matter of fact, the *Hartley's information content* does not depend on the sequence itself, but only on its lenght and the length of the alphabet it was written with: really, not even on the symbols themselves. Indeed, we could have omitted passing the message string to the *Message_Hartley_Entropy* and *Symbol_Hartley_Entropy* functions, as a parameter: it's up to the programmer.\n",
        "\n",
        "The previous is illustrated below."
      ],
      "metadata": {
        "id": "EVrpVXh-BwTm"
      }
    },
    {
      "cell_type": "markdown",
      "source": [
        "**FACT**: Whenever we generate a random sequence of characters, taken from any alphabet, we will always get the same value for the *Hartley's information content* measure, as long as the length of the sequence stays the same as well as the length of the alphabet.\n",
        "\n",
        "Try it yourself..."
      ],
      "metadata": {
        "id": "R29rwiNnE_qp"
      }
    },
    {
      "cell_type": "code",
      "source": [
        "n = 100\n",
        "print('length of the message:', n)\n",
        "print('size of the alphabet:', len(string.ascii_letters), end='\\n\\n')\n",
        "\n",
        "cad = ''.join(random.choice(string.ascii_letters) for _ in range(n))\n",
        "print('random message:', cad, end='\\n\\n')\n",
        "print('message entropy:', Message_Hartley_Entropy(cad, len(alphabet)))\n",
        "print('symbol entropy:', Symbol_Hartley_Entropy(cad, len(alphabet)))"
      ],
      "metadata": {
        "colab": {
          "base_uri": "https://localhost:8080/"
        },
        "id": "jQcB868V1hg-",
        "outputId": "a4bfd242-9413-45dc-8f19-d38223e4c8ae"
      },
      "execution_count": 9,
      "outputs": [
        {
          "output_type": "stream",
          "name": "stdout",
          "text": [
            "length of the message: 100\n",
            "size of the alphabet: 52\n",
            "\n",
            "random message: qYqiYqVbzLRaHcCLFLvggfOdUGbjEwyFkbqucjOqEzqBARfYAwKQGrqGJcpIzgHfnZYvfumrpjNYiUlGvADnoNzRuWKUvpbbvEqS\n",
            "\n",
            "message entropy: 464.38561897747246\n",
            "symbol entropy: 4.643856189774724\n"
          ]
        }
      ]
    },
    {
      "cell_type": "markdown",
      "source": [
        "As a matter of fact, here is some subtle detail that is worth noting: different values for the base $K$ results just in a scaling of the *Hartley's information content*. We show this by interpretating $K$ in terms of combinatory.\n",
        "\n",
        "What we got is a scaling of a logaritmic function for the *Hartley's information content* in the message: the scaling factor is the length of the message; the logaritmic function, the *Hartley's information content* per symbol, depends not only on the size of the alphabet, but also on the base $K$. Indeed, we would like to generate $N$ different symbols with an alphabet of $K$ symbols (encode). For that end, note that\n",
        "$$N=K^{log_{K}(N)}.$$\n",
        "In this context, the quantity $log_{K}(N)$ is interpreted as the exact number of *placeholders* needed to form $N$ different combinations with $K$ symbols.  \n",
        "\n",
        "By the *pigeonhole principle*, if $K<N$, then at least one of the $N$ symbols must be encoded with two or more of the $K$ symbols *i.e* the number of *placeholders*, $log_{K}(N)$, must be grater or equal than $2$, in order to asign each symbol a unique code. For fixed $K$, $log_{K}(N)$ is an increasing function of $N$. However, for $N'>N$, one can match combinations of two or more symbols from the smaller alphabet to the remaining unmatched $N'-N$ symbols in the larger alphabet. Therefore, the number of *placeholders*, $log_{K}(N)$, increase, but at the same time, the message itself can be written in the new alphabet with less symbols: since combinations of symbols in the smaller alphabet can be written as only one symbol from the larger alphabet. So, there will be more *placeholders* per symbol, but less symbols, in the code."
      ],
      "metadata": {
        "id": "Yl-SXkWLLwhC"
      }
    },
    {
      "cell_type": "markdown",
      "source": [
        "The most straightforward way to illustrate this is with the powers of a given alphabet size $N$: $N^{2}$, $N^{3}$, ..., $N^{p}$. For the sizes of alphabet therein you can interpolate safely, as long as $log_{K}(⋅)$ is an monotically increasing function of its argument. In this case, all $N$ symbols of the smaller alphabet are asigned to the \"first\" $N$ symbols of the larger alphabet. Then, the remaining $N^{p-1}$ symbols in the larger alphabet can be matched with all the $p$-length combinations of symbols from the smaller alphabet. This reduces the length of the message from $n$ symbols to $\\frac{n}{p-1}$.\n",
        "\n",
        "Try it yourself..."
      ],
      "metadata": {
        "id": "tbZhIpDEqtW_"
      }
    },
    {
      "cell_type": "code",
      "source": [
        "n = 100\n",
        "\n",
        "powers = 9\n",
        "for size in range(1, powers, 1):\n",
        "    print('length of the message:', n)\n",
        "    print('size of the alphabet:', len(string.ascii_letters), end='\\n\\n')\n",
        "\n",
        "    cad = ''.join(random.choice(string.ascii_letters) for _ in range(int(n/size)))\n",
        "    print('sequence:', cad, end='\\n\\n')\n",
        "    print('message entropy:', Message_Hartley_Entropy(cad, n**size))\n",
        "    print('symbol entropy:', Symbol_Hartley_Entropy(cad, n**size), end='\\n\\n\\n')"
      ],
      "metadata": {
        "colab": {
          "base_uri": "https://localhost:8080/"
        },
        "id": "p33o0QhWnzkm",
        "outputId": "52e200e6-7a79-4d3f-8e8c-d181ee6ad450"
      },
      "execution_count": 15,
      "outputs": [
        {
          "output_type": "stream",
          "name": "stdout",
          "text": [
            "length of the message: 100\n",
            "size of the alphabet: 52\n",
            "\n",
            "sequence: otykVHlMXLIWKRWLklrCdpXsNZGlasmqZeRmfmmNYLIvkwJaxABVFidlDBksBnUojkUilpEdNssENUIGYjCBRINUVxGaVbGpzoPZ\n",
            "\n",
            "message entropy: 664.3856189774725\n",
            "symbol entropy: 6.643856189774725\n",
            "\n",
            "\n",
            "length of the message: 100\n",
            "size of the alphabet: 52\n",
            "\n",
            "sequence: WPiXNXGvWJEDGpvpCsHBYcsdILpNMsYmeCZurfMFdnvebgqdhw\n",
            "\n",
            "message entropy: 664.3856189774725\n",
            "symbol entropy: 13.28771237954945\n",
            "\n",
            "\n",
            "length of the message: 100\n",
            "size of the alphabet: 52\n",
            "\n",
            "sequence: igjALzKARJWKXesCiEmYxxhBeFVjRbkRQ\n",
            "\n",
            "message entropy: 657.7417627876978\n",
            "symbol entropy: 19.931568569324174\n",
            "\n",
            "\n",
            "length of the message: 100\n",
            "size of the alphabet: 52\n",
            "\n",
            "sequence: YHTKXWeXUwEwbYCGElzSbxbew\n",
            "\n",
            "message entropy: 664.3856189774725\n",
            "symbol entropy: 26.5754247590989\n",
            "\n",
            "\n",
            "length of the message: 100\n",
            "size of the alphabet: 52\n",
            "\n",
            "sequence: eCNsBOTMxBxWaLSUuSPo\n",
            "\n",
            "message entropy: 664.3856189774725\n",
            "symbol entropy: 33.219280948873624\n",
            "\n",
            "\n",
            "length of the message: 100\n",
            "size of the alphabet: 52\n",
            "\n",
            "sequence: oFgpOzAAzTSuzTcF\n",
            "\n",
            "message entropy: 637.8101942183736\n",
            "symbol entropy: 39.86313713864835\n",
            "\n",
            "\n",
            "length of the message: 100\n",
            "size of the alphabet: 52\n",
            "\n",
            "sequence: ZkiEzcGmHYvrOR\n",
            "\n",
            "message entropy: 651.0979065979232\n",
            "symbol entropy: 46.506993328423086\n",
            "\n",
            "\n",
            "length of the message: 100\n",
            "size of the alphabet: 52\n",
            "\n",
            "sequence: fePihzpIrFuZ\n",
            "\n",
            "message entropy: 637.8101942183737\n",
            "symbol entropy: 53.15084951819781\n",
            "\n",
            "\n"
          ]
        }
      ]
    },
    {
      "cell_type": "code",
      "source": [
        "Message_Hartley_Entropies = []\n",
        "Symbol_Hartley_Entropies = []\n",
        "\n",
        "n = 100\n",
        "m = 10\n",
        "\n",
        "cad = ''.join(random.choice(string.ascii_letters) for _ in range(n))\n",
        "for i in range(1, m, 1):\n",
        "    Message_Hartley_Entropies.append(Message_Hartley_Entropy(cad, i))\n",
        "    Symbol_Hartley_Entropies.append(Symbol_Hartley_Entropy(cad, i))"
      ],
      "metadata": {
        "id": "sJalc6Po9PAQ"
      },
      "execution_count": 5,
      "outputs": []
    },
    {
      "cell_type": "markdown",
      "source": [
        "Note that we fixed the message length: while the message can be anything, its size is always $n$. On the other side, the size of the alphabet passed to the function varies with the for-loop variable: from 1 to $m$, symbols in the alphabet. Try changing the value of $m$ in the code cell above to change the graphs below.\n",
        "\n",
        "When the size of the alphabet varies, the next is what we get:"
      ],
      "metadata": {
        "id": "yS2dimKDNCqE"
      }
    },
    {
      "cell_type": "code",
      "source": [
        "plt.title('Message_Hartley_Entropies(m) VS m')\n",
        "plt.xlabel('size of the alphabet := m')\n",
        "plt.ylabel('Message_Hartley_Entropies(m)')\n",
        "plt.plot(Message_Hartley_Entropies)\n",
        "plt.show()\n",
        "plt.title('Symbol_Hartley_Entropies(m) VS m')\n",
        "plt.xlabel('size of the alphabet := m')\n",
        "plt.ylabel('Symbol_Hartley_Entropies(m)')\n",
        "plt.plot(Symbol_Hartley_Entropies)\n",
        "plt.show()"
      ],
      "metadata": {
        "colab": {
          "base_uri": "https://localhost:8080/",
          "height": 573
        },
        "id": "VcRXRsTT_K_9",
        "outputId": "3d095da0-797a-454f-ac1e-e4e8a6433e5a"
      },
      "execution_count": 6,
      "outputs": [
        {
          "output_type": "display_data",
          "data": {
            "text/plain": [
              "<Figure size 432x288 with 1 Axes>"
            ],
            "image/png": "[encoded data removed]"
          },
          "metadata": {
            "needs_background": "light"
          }
        },
        {
          "output_type": "display_data",
          "data": {
            "text/plain": [
              "<Figure size 432x288 with 1 Axes>"
            ],
            "image/png": "[encoded data removed]"
          },
          "metadata": {
            "needs_background": "light"
          }
        }
      ]
    },
    {
      "cell_type": "markdown",
      "source": [
        "As expected, what we see is a scaling of a logaritmic function for the *Hartley's information content* in the message: the scaling factor is the length of the message; the logaritmic function, the *Hartley's information content* per symbol, grows with the size of the alphabet.\n",
        "\n",
        "Beyond that, what really matters is how this may be interpreted, because every quantity involved has its physical meaning.\n",
        "\n",
        "As we mentioned earlier, what *Hartley* really wanted to capture."
      ],
      "metadata": {
        "id": "dmyhjJeVV4AA"
      }
    },
    {
      "cell_type": "markdown",
      "source": [
        "##Entropy by *Claude Shannon* (1948)"
      ],
      "metadata": {
        "id": "s26hTLVdyoCw"
      }
    },
    {
      "cell_type": "code",
      "source": [
        ""
      ],
      "metadata": {
        "id": "JouGyPc8y3IH"
      },
      "execution_count": 6,
      "outputs": []
    }
  ]
}