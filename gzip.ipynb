{
  "nbformat": 4,
  "nbformat_minor": 0,
  "metadata": {
    "colab": {
      "name": "gzip",
      "provenance": [],
      "collapsed_sections": [],
      "authorship_tag": "ABX9TyPXTzkI0Smyx9IQpgcTS21g",
      "include_colab_link": true
    },
    "kernelspec": {
      "name": "python3",
      "display_name": "Python 3"
    },
    "language_info": {
      "name": "python"
    }
  },
  "cells": [
    {
      "cell_type": "markdown",
      "metadata": {
        "id": "view-in-github",
        "colab_type": "text"
      },
      "source": [
        "<a href=\"https://colab.research.google.com/github/estebanhernandezr/DNA-compression/blob/main/gzip.ipynb\" target=\"_parent\"><img src=\"https://colab.research.google.com/assets/colab-badge.svg\" alt=\"Open In Colab\"/></a>"
      ]
    },
    {
      "cell_type": "code",
      "execution_count": 1,
      "metadata": {
        "colab": {
          "base_uri": "https://localhost:8080/"
        },
        "id": "RqaRZM-M9RTg",
        "outputId": "1783fae1-4da7-4491-b084-48ed59892c21"
      },
      "outputs": [
        {
          "output_type": "stream",
          "name": "stdout",
          "text": [
            "Requirement already satisfied: bitarray in /usr/local/lib/python3.7/dist-packages (2.3.6)\n"
          ]
        }
      ],
      "source": [
        "pip install bitarray"
      ]
    },
    {
      "cell_type": "code",
      "source": [
        "from bitarray import *\n",
        "from typing import Dict, Sequence, Tuple"
      ],
      "metadata": {
        "id": "6GA7cy8l9Zp_"
      },
      "execution_count": 2,
      "outputs": []
    },
    {
      "cell_type": "code",
      "source": [
        "# FUNCTIONS\n",
        "\n",
        "def data_from_file(filename: str) -> bytearray:\n",
        "    with open(filename, 'rb') as input_file:\n",
        "        filedata = input_file.read()\n",
        "    return filedata\n",
        "\n",
        "def file_from_bin(filename: str, buffer: bytearray) -> None:\n",
        "    with open(filename, 'wb') as outfile:\n",
        "        outfile.write(buffer)\n",
        "        return None\n",
        "\n",
        "def bin_from_file(filename: str) -> bytearray:\n",
        "    filedata: bytearray = bitarray(endian='big')\n",
        "    with open(filename, 'rb') as input_file:\n",
        "        filedata.fromfile(input_file)\n",
        "    return filedata\n",
        "\n",
        "def inipad(symb: int, padsize: int, cad: str) -> bytearray:\n",
        "    pad: bytearray = bytearray(chr(symb), 'utf-8')\n",
        "    for i in range(padsize-1):\n",
        "        pad.append(pad[0])\n",
        "    return pad + cad"
      ],
      "metadata": {
        "id": "rjBg9EsDKKdh"
      },
      "execution_count": 3,
      "outputs": []
    },
    {
      "cell_type": "code",
      "source": [
        "# COMPRESSER CLASS\n",
        "\n",
        "class Compresser:\n",
        "    _n: int\n",
        "    _Ls: int\n",
        "    _symb: int\n",
        "    _compressed_string: bytearray\n",
        "\n",
        "    _huffman_dictionary: Dict\n",
        "    _compressed_huffman: bytearray\n",
        "\n",
        "    def __init__(self, n: int, Ls: int):\n",
        "        if (n < 0 or Ls < 0):\n",
        "\t\t\t      raise ValueError(\"Negative buffer sizes\")\n",
        "\n",
        "        self._n = n\n",
        "        self._Ls = Ls\n",
        "        self._symb = 32\n",
        "        self._compressed_string = bitarray(endian='big')\n",
        "\n",
        "        self._huffman_dictionary = {}\n",
        "        self._compressed_huffman = bitarray(endian='big')\n",
        "\n",
        "    def codify_word(self, pos: int, size: int, char: chr=None) -> str:\n",
        "        n: int = self._n\n",
        "        Ls: int = self._Ls\n",
        "        codeword = \"{0:0{width}b}\".format(pos, width=len(\"{0:b}\".format(n)))\n",
        "        codeword += \"{0:0{width}b}\".format(size, width=len(\"{0:b}\".format(Ls)))\n",
        "        return codeword\n",
        "\n",
        "    def rep_extension(self, search: str, lookahead: str) -> Sequence[int]:\n",
        "        n: int = self._n\n",
        "        Ls: int = self._Ls\n",
        "        pos: int = -1\n",
        "        size: int = 0\n",
        "        char: chr = ''\n",
        "        for prefixsize in range(1, min(n-Ls, len(lookahead))):\n",
        "            prefix: str = lookahead[:prefixsize]\n",
        "            p: int = search.rfind(prefix, 0, (n-Ls)+prefixsize-1)\n",
        "            if p >= 0:\n",
        "                pos = p\n",
        "                size = prefixsize\n",
        "                char = lookahead[size]\n",
        "            else:\n",
        "                break\n",
        "        return pos, size, char\n",
        "\n",
        "    def codify_cad(self, cad: str) -> None:\n",
        "        n: int = self._n\n",
        "        Ls: int = self._Ls\n",
        "        symb: int = self._symb\n",
        "        dictionary: Dict = self._huffman_dictionary\n",
        "\n",
        "        pcad: bytearray = inipad(symb, n-Ls, cad)\n",
        "        i: int = 0\n",
        "        while i < len(pcad)-(n-Ls):\n",
        "            triple: Sequence[int] = self.rep_extension(pcad[i:i+n], pcad[i+n-Ls:i+n])\n",
        "            pos: int = triple[0]\n",
        "            size: int = triple[1]\n",
        "            if (pos >= 0 and size > 1):\n",
        "                self._compressed_string.append(True)\n",
        "                if \"{0:0{width}b}\".format(pos, width=len(\"{0:b}\".format(n))) in dictionary:\n",
        "                    huffman_code: str = dictionary[\"{0:0{width}b}\".format(pos,\n",
        "                                                                          width=len(\"{0:b}\".format(n)))]\n",
        "                    bin_code: str = huffman_code + \"{0:0{width}b}\".format(size,\n",
        "                                                                          width=len(\"{0:b}\".format(Ls)))\n",
        "                elif len(dictionary) == 0:\n",
        "                    bin_code: str = self.codify_word(pos, size)\n",
        "                \n",
        "                for bit in bin_code:\n",
        "                    if bit == '1':\n",
        "                        self._compressed_string.append(True)\n",
        "                    else:\n",
        "                        self._compressed_string.append(False)\n",
        "                i += size\n",
        "            else:\n",
        "                self._compressed_string.append(False)\n",
        "                self._compressed_string.frombytes(bytes([pcad[i+n-Ls]]))\n",
        "                i += 1\n",
        "        return None\n",
        "\n",
        "    def compress(self, filename: str) -> None:\n",
        "        filedata: bytearray = data_from_file(filename) #CHECKED\n",
        "        \n",
        "        #distances = get_distances(filedata) #CHECKED - HUFFMAN PART\n",
        "        #counts = bl_count_from_distances(distances) #CHECKED - HUFFMAN PART\n",
        "        #huffman_tree = create_huffman_tree(counts) #CHECKED - HUFFMAN PART\n",
        "        #dictionary = dictionary_from_tree(huffman_tree, '', codeDictionary) #CHECKED - HUFFMAN PART\n",
        "        #self._huffman_dictionary = dictionary\n",
        "\n",
        "        #self.codify_huffmantree(huffman_tree, treeBuffer) #CHECKED - HUFFMAN PART\n",
        "        self.codify_cad(filedata) #CHECKED\n",
        "\n",
        "        return None"
      ],
      "metadata": {
        "id": "oF20f25u9bj_"
      },
      "execution_count": 4,
      "outputs": []
    },
    {
      "cell_type": "code",
      "source": [
        "filename: str = 'textgen.py'\n",
        "\n",
        "Compresor = Compresser(5000, 1000)\n",
        "Compresor.compress(filename)\n",
        "\n",
        "Compresor._compressed_string.fill()\n",
        "file_from_bin('compressed_file', Compresor._compressed_string)"
      ],
      "metadata": {
        "id": "O1jk4QIRAlg0"
      },
      "execution_count": 5,
      "outputs": []
    },
    {
      "cell_type": "code",
      "source": [
        "# DECOMPRESSER CLASS\n",
        "\n",
        "class Decompresser:\n",
        "    _n: int\n",
        "    _Ls: int\n",
        "    _symb: int\n",
        "    _decompressed_string: bitarray\n",
        "    \n",
        "    _huffman_dictionary: Dict\n",
        "    _decompressed_huffman: bitarray\n",
        "\n",
        "    def __init__(self, n: int, Ls: int):\n",
        "        if (n < 0 or Ls < 0):\n",
        "\t\t\t      raise ValueError(\"Negative buffer sizes\")\n",
        "\n",
        "        self._n = n\n",
        "        self._Ls = Ls\n",
        "        self._symb = 32\n",
        "        self._decompressed_string = bitarray(endian='big')\n",
        "\n",
        "        self._huffman_dictionary = {}\n",
        "        self._decompressed_huffman = bitarray(endian='big')\n",
        "\n",
        "    def decompress_cad(self, filedata: bytearray) -> None:\n",
        "        n: int = self._n\n",
        "        Ls: int = self._Ls\n",
        "        symb: int = self._symb\n",
        "        self._decompressed_string = inipad(symb, n-Ls, bytes())\n",
        "\n",
        "        k: int = 0\n",
        "        while len(filedata) >= 9:\n",
        "            flag_pair = filedata.pop(0)\n",
        "            if not flag_pair:\n",
        "                byte = filedata[0:8].tobytes()\n",
        "                self._decompressed_string += byte\n",
        "                del filedata[0:8]\n",
        "                k += 1\n",
        "            else:\n",
        "                position = ''\n",
        "                for i in range(0, len(\"{0:b}\".format(n))):\n",
        "                    bit = filedata.pop(0)\n",
        "                    if bit == True:\n",
        "                        position += '1'\n",
        "                    else:\n",
        "                        position += '0'\n",
        "\n",
        "                curbitsubstring = ''\n",
        "                stop = False\n",
        "                while len(self._huffman_dictionary) > 0 and stop == False:\n",
        "                    bit = filedata.pop(0)\n",
        "                    if bit == True:\n",
        "                        curbitsubstring+=\"1\"\n",
        "                    else:\n",
        "                        curbitsubstring+=\"0\"\n",
        "                    for key in self._huffman_dictionary:\n",
        "                        if self._huffman_dictionary[key] == str(curbitsubstring):\n",
        "                            position = key\n",
        "                            stop = True\n",
        "\n",
        "                length = ''\n",
        "                for i in range(0, len(\"{0:b}\".format(Ls))):\n",
        "                    bit = filedata.pop(0)\n",
        "                    if bit == True:\n",
        "                        length += '1'\n",
        "                    else:\n",
        "                        length += '0'\n",
        "\n",
        "                bestDistance = int(position, 2)\n",
        "                bestLength = int(length, 2)\n",
        "                for i in range(bestLength):\n",
        "                    self._decompressed_string.append(\n",
        "                        self._decompressed_string[k+bestDistance+i])\n",
        "                k += bestLength\n",
        "\n",
        "        self._decompressed_string = self._decompressed_string[n-Ls:]\n",
        "        return None\n",
        "\n",
        "    def decompress(self, filename: str):\n",
        "        filedata: bytearray = bin_from_file(filename)\n",
        "\n",
        "        #root = decodify_huffman_tree(filedata) - HUFFMAN PART\n",
        "        #dictionary_from_tree(root, '', codeDictionary) - HUFFMAN PART\n",
        "        \n",
        "        self.decompress_cad(filedata)"
      ],
      "metadata": {
        "id": "R0j6pGVjKFgw"
      },
      "execution_count": 6,
      "outputs": []
    },
    {
      "cell_type": "code",
      "source": [
        "filename: str = 'compressed_file'\n",
        "\n",
        "Decompresor = Decompresser(5000, 1000)\n",
        "Decompresor.decompress(filename)\n",
        "\n",
        "file_from_bin('decompressed_file', Decompresor._decompressed_string)"
      ],
      "metadata": {
        "id": "65oi7I0ERCtx"
      },
      "execution_count": 7,
      "outputs": []
    }
  ]
}