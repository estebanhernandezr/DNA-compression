{
  "nbformat": 4,
  "nbformat_minor": 0,
  "metadata": {
    "colab": {
      "name": "gzip",
      "provenance": [],
      "collapsed_sections": [
        "wb8xCfbXUXPN"
      ],
      "authorship_tag": "ABX9TyMDOL/GK+J+LFrLbtIwkUMg",
      "include_colab_link": true
    },
    "kernelspec": {
      "name": "python3",
      "display_name": "Python 3"
    },
    "language_info": {
      "name": "python"
    }
  },
  "cells": [
    {
      "cell_type": "markdown",
      "metadata": {
        "id": "view-in-github",
        "colab_type": "text"
      },
      "source": [
        "<a href=\"https://colab.research.google.com/github/estebanhernandezr/DNA-compression/blob/master/gzip.ipynb\" target=\"_parent\"><img src=\"https://colab.research.google.com/assets/colab-badge.svg\" alt=\"Open In Colab\"/></a>"
      ]
    },
    {
      "cell_type": "markdown",
      "source": [
        "# **PDF2TXT**"
      ],
      "metadata": {
        "id": "wg5I2natVs4G"
      }
    },
    {
      "cell_type": "code",
      "source": [
        "pip install PyPDF2"
      ],
      "metadata": {
        "colab": {
          "base_uri": "https://localhost:8080/"
        },
        "id": "E0HFSYoqVxXj",
        "outputId": "96a9b4ad-1bbe-46a9-f23f-c2620e1fc0f3"
      },
      "execution_count": 23,
      "outputs": [
        {
          "output_type": "stream",
          "name": "stdout",
          "text": [
            "Requirement already satisfied: PyPDF2 in /usr/local/lib/python3.7/dist-packages (1.26.0)\n"
          ]
        }
      ]
    },
    {
      "cell_type": "code",
      "source": [
        "import PyPDF2"
      ],
      "metadata": {
        "id": "z6Pvjmr0V5VJ"
      },
      "execution_count": 24,
      "outputs": []
    },
    {
      "cell_type": "code",
      "source": [
        "def pdf2txt(filename, text='', ini=0, fin=0):\n",
        "    pdffileobj=open(filename,'rb')\n",
        "    pdfreader=PyPDF2.PdfFileReader(pdffileobj)\n",
        "    y=pdfreader.numPages\n",
        "\n",
        "    x = ini\n",
        "    y = y-fin\n",
        "\n",
        "    for i in range(x, y):\n",
        "        pageobj=pdfreader.getPage(i)\n",
        "        text+=pageobj.extractText()\n",
        "    print(text)\n",
        "    return text"
      ],
      "metadata": {
        "id": "lH7X7ytCV7dt"
      },
      "execution_count": 25,
      "outputs": []
    },
    {
      "cell_type": "markdown",
      "source": [
        "# **GZIP**"
      ],
      "metadata": {
        "id": "wb8xCfbXUXPN"
      }
    },
    {
      "cell_type": "code",
      "execution_count": 26,
      "metadata": {
        "colab": {
          "base_uri": "https://localhost:8080/"
        },
        "id": "RqaRZM-M9RTg",
        "outputId": "df5a4502-3f72-49d1-c272-1d26be66ea4d"
      },
      "outputs": [
        {
          "output_type": "stream",
          "name": "stdout",
          "text": [
            "Requirement already satisfied: bitarray in /usr/local/lib/python3.7/dist-packages (2.3.6)\n"
          ]
        }
      ],
      "source": [
        "pip install bitarray"
      ]
    },
    {
      "cell_type": "code",
      "source": [
        "from bitarray import *\n",
        "from typing import Dict, Sequence, Tuple"
      ],
      "metadata": {
        "id": "6GA7cy8l9Zp_"
      },
      "execution_count": 27,
      "outputs": []
    },
    {
      "cell_type": "code",
      "source": [
        "# FUNCTIONS\n",
        "\n",
        "def data_from_file(filename: str) -> bytearray:\n",
        "    with open(filename, 'rb') as input_file:\n",
        "        filedata = input_file.read()\n",
        "    return filedata\n",
        "\n",
        "def file_from_bin(filename: str, buffer: bytearray) -> None:\n",
        "    with open(filename, 'wb') as outfile:\n",
        "        outfile.write(buffer)\n",
        "        return None\n",
        "\n",
        "def bin_from_file(filename: str) -> bytearray:\n",
        "    filedata: bytearray = bitarray(endian='big')\n",
        "    with open(filename, 'rb') as input_file:\n",
        "        filedata.fromfile(input_file)\n",
        "    return filedata\n",
        "\n",
        "def inipad(symb: int, padsize: int, cad: str) -> bytearray:\n",
        "    pad: bytearray = bytearray(chr(symb), 'utf-8')\n",
        "    for i in range(padsize-1):\n",
        "        pad.append(pad[0])\n",
        "    return pad + cad"
      ],
      "metadata": {
        "id": "rjBg9EsDKKdh"
      },
      "execution_count": 28,
      "outputs": []
    },
    {
      "cell_type": "code",
      "source": [
        "# COMPRESSER CLASS\n",
        "\n",
        "class Compresser:\n",
        "    _n: int\n",
        "    _Ls: int\n",
        "    _symb: int\n",
        "    _compressed_string: bytearray\n",
        "\n",
        "    _huffman_dictionary: Dict\n",
        "    _compressed_huffman: bytearray\n",
        "\n",
        "    def __init__(self, n: int, Ls: int):\n",
        "        if (n < 0 or Ls < 0):\n",
        "\t\t\t      raise ValueError(\"Negative buffer sizes\")\n",
        "\n",
        "        self._n = n\n",
        "        self._Ls = Ls\n",
        "        self._symb = 32\n",
        "        self._compressed_string = bitarray(endian='big')\n",
        "\n",
        "        self._huffman_dictionary = {}\n",
        "        self._compressed_huffman = bitarray(endian='big')\n",
        "\n",
        "    def codify_word(self, pos: int, size: int, char: chr=None) -> str:\n",
        "        n: int = self._n\n",
        "        Ls: int = self._Ls\n",
        "        codeword = \"{0:0{width}b}\".format(pos, width=len(\"{0:b}\".format(n)))\n",
        "        codeword += \"{0:0{width}b}\".format(size, width=len(\"{0:b}\".format(Ls)))\n",
        "        return codeword\n",
        "\n",
        "    def rep_extension(self, search: str, lookahead: str) -> Sequence[int]:\n",
        "        n: int = self._n\n",
        "        Ls: int = self._Ls\n",
        "        pos: int = -1\n",
        "        size: int = 0\n",
        "        char: chr = ''\n",
        "        for prefixsize in range(1, min(n-Ls, len(lookahead))):\n",
        "            prefix: str = lookahead[:prefixsize]\n",
        "            p: int = search.rfind(prefix, 0, (n-Ls)+prefixsize-1)\n",
        "            if p >= 0:\n",
        "                pos = p\n",
        "                size = prefixsize\n",
        "                char = lookahead[size]\n",
        "            else:\n",
        "                break\n",
        "        return pos, size, char\n",
        "\n",
        "    def codify_cad(self, cad: str) -> None:\n",
        "        n: int = self._n\n",
        "        Ls: int = self._Ls\n",
        "        symb: int = self._symb\n",
        "        dictionary: Dict = self._huffman_dictionary\n",
        "\n",
        "        pcad: bytearray = inipad(symb, n-Ls, cad)\n",
        "        i: int = 0\n",
        "        while i < len(pcad)-(n-Ls):\n",
        "            triple: Sequence[int] = self.rep_extension(pcad[i:i+n], pcad[i+n-Ls:i+n])\n",
        "            pos: int = triple[0]\n",
        "            size: int = triple[1]\n",
        "            if (pos >= 0 and size > 1):\n",
        "                self._compressed_string.append(True)\n",
        "                if \"{0:0{width}b}\".format(pos, width=len(\"{0:b}\".format(n))) in dictionary:\n",
        "                    huffman_code: str = dictionary[\"{0:0{width}b}\".format(pos,\n",
        "                                                                          width=len(\"{0:b}\".format(n)))]\n",
        "                    bin_code: str = huffman_code + \"{0:0{width}b}\".format(size,\n",
        "                                                                          width=len(\"{0:b}\".format(Ls)))\n",
        "                elif len(dictionary) == 0:\n",
        "                    bin_code: str = self.codify_word(pos, size)\n",
        "                \n",
        "                for bit in bin_code:\n",
        "                    if bit == '1':\n",
        "                        self._compressed_string.append(True)\n",
        "                    else:\n",
        "                        self._compressed_string.append(False)\n",
        "                i += size\n",
        "            else:\n",
        "                self._compressed_string.append(False)\n",
        "                self._compressed_string.frombytes(bytes([pcad[i+n-Ls]]))\n",
        "                i += 1\n",
        "        return None\n",
        "\n",
        "    def compress(self, filename: str) -> None:\n",
        "        filedata: bytearray = data_from_file(filename) #CHECKED\n",
        "        \n",
        "        #distances = get_distances(filedata) #CHECKED - HUFFMAN PART\n",
        "        #counts = bl_count_from_distances(distances) #CHECKED - HUFFMAN PART\n",
        "        #huffman_tree = create_huffman_tree(counts) #CHECKED - HUFFMAN PART\n",
        "        #dictionary = dictionary_from_tree(huffman_tree, '', codeDictionary) #CHECKED - HUFFMAN PART\n",
        "        #self._huffman_dictionary = dictionary\n",
        "\n",
        "        #self.codify_huffmantree(huffman_tree, treeBuffer) #CHECKED - HUFFMAN PART\n",
        "        self.codify_cad(filedata) #CHECKED\n",
        "\n",
        "        return None"
      ],
      "metadata": {
        "id": "oF20f25u9bj_"
      },
      "execution_count": 29,
      "outputs": []
    },
    {
      "cell_type": "code",
      "source": [
        "# DECOMPRESSER CLASS\n",
        "\n",
        "class Decompresser:\n",
        "    _n: int\n",
        "    _Ls: int\n",
        "    _symb: int\n",
        "    _decompressed_string: bitarray\n",
        "    \n",
        "    _huffman_dictionary: Dict\n",
        "    _decompressed_huffman: bitarray\n",
        "\n",
        "    def __init__(self, n: int, Ls: int):\n",
        "        if (n < 0 or Ls < 0):\n",
        "\t\t\t      raise ValueError(\"Negative buffer sizes\")\n",
        "\n",
        "        self._n = n\n",
        "        self._Ls = Ls\n",
        "        self._symb = 32\n",
        "        self._decompressed_string = bitarray(endian='big')\n",
        "\n",
        "        self._huffman_dictionary = {}\n",
        "        self._decompressed_huffman = bitarray(endian='big')\n",
        "\n",
        "    def decompress_cad(self, filedata: bytearray) -> None:\n",
        "        n: int = self._n\n",
        "        Ls: int = self._Ls\n",
        "        symb: int = self._symb\n",
        "        self._decompressed_string = inipad(symb, n-Ls, bytes())\n",
        "\n",
        "        k: int = 0\n",
        "        while len(filedata) >= 9:\n",
        "            flag_pair = filedata.pop(0)\n",
        "            if not flag_pair:\n",
        "                byte = filedata[0:8].tobytes()\n",
        "                self._decompressed_string += byte\n",
        "                del filedata[0:8]\n",
        "                k += 1\n",
        "            else:\n",
        "                position = ''\n",
        "                for i in range(0, len(\"{0:b}\".format(n))):\n",
        "                    bit = filedata.pop(0)\n",
        "                    if bit == True:\n",
        "                        position += '1'\n",
        "                    else:\n",
        "                        position += '0'\n",
        "\n",
        "                curbitsubstring = ''\n",
        "                stop = False\n",
        "                while len(self._huffman_dictionary) > 0 and stop == False:\n",
        "                    bit = filedata.pop(0)\n",
        "                    if bit == True:\n",
        "                        curbitsubstring+=\"1\"\n",
        "                    else:\n",
        "                        curbitsubstring+=\"0\"\n",
        "                    for key in self._huffman_dictionary:\n",
        "                        if self._huffman_dictionary[key] == str(curbitsubstring):\n",
        "                            position = key\n",
        "                            stop = True\n",
        "\n",
        "                length = ''\n",
        "                for i in range(0, len(\"{0:b}\".format(Ls))):\n",
        "                    bit = filedata.pop(0)\n",
        "                    if bit == True:\n",
        "                        length += '1'\n",
        "                    else:\n",
        "                        length += '0'\n",
        "\n",
        "                bestDistance = int(position, 2)\n",
        "                bestLength = int(length, 2)\n",
        "                for i in range(bestLength):\n",
        "                    self._decompressed_string.append(\n",
        "                        self._decompressed_string[k+bestDistance+i])\n",
        "                k += bestLength\n",
        "\n",
        "        self._decompressed_string = self._decompressed_string[n-Ls:]\n",
        "        return None\n",
        "\n",
        "    def decompress(self, filename: str):\n",
        "        filedata: bytearray = bin_from_file(filename)\n",
        "\n",
        "        #root = decodify_huffman_tree(filedata) - HUFFMAN PART\n",
        "        #dictionary_from_tree(root, '', codeDictionary) - HUFFMAN PART\n",
        "        \n",
        "        self.decompress_cad(filedata)"
      ],
      "metadata": {
        "id": "R0j6pGVjKFgw"
      },
      "execution_count": 30,
      "outputs": []
    },
    {
      "cell_type": "markdown",
      "source": [
        "# **Test Suite**"
      ],
      "metadata": {
        "id": "qtJZOL89Vhg9"
      }
    },
    {
      "cell_type": "code",
      "source": [
        "filename1 = 'Spanish [Spain].pdf'\n",
        "filename2 = 'Italian [Italy].pdf'\n",
        "text1 = pdf2txt(filename1)\n",
        "text2 = pdf2txt(filename2, text1, ini=8, fin=0)\n",
        "\n",
        "file=open('datos'+'.txt', 'w')\n",
        "file.write(text2)"
      ],
      "metadata": {
        "colab": {
          "base_uri": "https://localhost:8080/"
        },
        "id": "Eh5mfXqkWF_W",
        "outputId": "8bc826c3-39be-4f91-ab55-61eacbfadb4d"
      },
      "execution_count": 31,
      "outputs": [
        {
          "output_type": "stream",
          "name": "stdout",
          "text": [
            " Declaraci!n Universal de Derechos Humanos \n",
            "Adoptada y proclamada por la As\n",
            "amblea General en su resoluci!n 217 A (III), de 10 de diciembre de 1948  Pre\n",
            "\"mbulo  Considerando que la libertad, la justicia y la paz en el mundo tienen por base el reconocimiento de la dignidad intr\n",
            "#nseca y de los derechos iguales e inalienables \n",
            "de todos los miembros de la familia humana,  \n",
            "Considerando que el desconocimiento y el menosprecio de los derechos humanos han originado actos de barbarie ultrajantes para la conciencia de la \n",
            "humanidad; y que se ha proclamado, como la aspiraci!n m\"s elevada del hombre, el advenimiento de un mundo en que los seres humanos, liberados del temor y de la miseria, disfruten de la libertad de palabra y de la libertad de \n",
            "creencias,  Considerando esencial que los derechos humanos sean protegidos por un r$gimen de Derecho, a fin de que el hombre no se vea compelido al supremo recurso de la rebeli!n contra la tiran#a y la opresi!n,  Considerando tambi$n esencial promover el desarrollo de relaciones amistosas \n",
            "entre las naciones,  Considerando que los pueblos de las Naciones Unidas han reafirmado en la Carta su fe en los derechos fundamentales del hombre, en la dignidad y el valor de la persona humana y en la igualdad de derechos de hombres y mujeres; y se \n",
            "han declarado resueltos a promover el progres\n",
            "o social y a elevar el nivel de vida dentro de un concepto m\"s amplio de la libertad,  Considerando que los Estados Miembros se han comprometido a asegurar, en cooperaci!n con la Organizaci\n",
            "!n de las Naciones Unidas, el respeto universal y efectivo a los derechos y libertades fundamentales del hombre, y  \n",
            "Considerando que una concepci!n com%n de estos derechos y libertades es de la mayor importancia para el pleno cumplimiento de dicho compromiso,  \n",
            "  La Asamblea General  Proclama la presente Declaraci\n",
            "!n Universal de Derechos Humanos como ideal com%n por el que todos los pueblos y naciones deben esforzarse, a fin de que tanto los individuos como las instituciones, inspir\"ndose constantemente en ella, promuevan, mediante la ense&anza y la educaci!n, el respeto a estos derechos y libertades, y aseguren, por medidas progresivas de car\n",
            "\"cter nacional e internacional, su reconocimiento y aplicaci\n",
            "!n universales y efectivos, tanto entre los pueblos de los Estados Miembros como \n",
            "entre los de los territorios colocados bajo su jurisdicci!n.  Art#culo 1  Todos los seres humanos nacen libres e iguales en dignidad y derechos y, \n",
            "dotados como est\"n de raz!n y conciencia, deben comportarse fraternalmente \n",
            "los unos con los otros.  Art#culo 2  Toda persona tiene los derechos y libert\n",
            "ades proclamados en esta Declaraci\n",
            "!n, sin distinci\n",
            "!n alguna de raza, color, sexo, idioma, religi!n, opini!n pol\n",
            "#tica o de cualquier otra #ndole, origen nacional o social, posici!n econ!mica, nacimiento o cualquier otra condici!n.  Adem\"s, no se har\" distinci!n alguna fundada en la condici!n pol#tica, jur#dica o internacional del pa#s o territorio de cuya jurisdicci!n dependa una persona, tanto si se trata de un pa#s independiente, como de un territorio bajo administraci\n",
            "!n fiduciaria, no aut!nomo o sometido a cualquier otra limitaci!n de soberan#a.  Art#culo 3  Todo individuo tiene derecho a la vida, a la libertad y a la seguridad de su \n",
            "persona.    Art#culo 4  Nadie estar\" sometido a esclavitud ni a servidumbre; la esclavitud y la trata de esclavos est\"n prohibidas en todas sus formas.  Art#culo 5  Nadie ser\" sometido a torturas ni a penas o tratos crueles, inhumanos o degradantes.  Art#culo 6  Todo ser humano tiene derecho, en todas partes, al reconocimiento de su personalidad jur#dica.  Art#culo 7  Todos son iguales ante la ley y tienen, sin distinci!n, derecho a igual protecci!n de la ley. Todos tienen derecho a igual protecci\n",
            "!n contra toda discriminaci\n",
            "!n que \n",
            "infrinja esta Declaraci\n",
            "!n y contra toda provocaci\n",
            "!n a tal discriminaci\n",
            "!n.  Art#culo 8  Toda persona tiene derecho a un recurso efectivo, ante los tribunales nacionales competentes, que la ampare contra actos que violen sus derechos fundamentales reconocidos por la constituci!n o por la ley.  Art#culo 9  Nadie podr\" ser arbitrariamente detenido, preso ni desterrado.  Art#culo 10  Toda persona tiene derecho, en condiciones de plena igualdad, a ser o\n",
            "#da p%blicamente y con justicia por un tribunal independiente e imparcial, para la \n",
            "  determinaci!n de sus derechos y obligaciones o para el examen de cualquier \n",
            "acusaci!n contra ella en materia penal.  Art#culo 11  1. Toda persona acusada de delito \n",
            "tiene derecho a que se presuma su \n",
            "inocencia mientras no se pruebe su cu\n",
            "lpabilidad, conforme a la ley y en juicio p\n",
            "%blico en el que se le hayan asegurado todas las garant#as necesarias para su defensa.  2. Nadie ser\n",
            "\" condenado por actos u omisiones que en el momento de cometerse no fueron delictivos seg%n el Derecho nacional o internacional. \n",
            "Tampoco se impondr\" pena m\"s grave que la aplicable en el momento de la comisi!n del delito.  Art#culo 12  Nadie ser\" objeto de injerencias arbitrarias en su vida privada, su familia, su domicilio o su correspondencia, ni de ataques a su honra o a su reputaci\n",
            "!n. Toda persona tiene derecho a la protecci!n de la ley contra tales injerencias o ataques.  Art#culo 13  1. Toda persona tiene derecho a circular \n",
            "libremente y a elegir su residencia \n",
            "en el territorio de un Estado.  2. Toda persona tiene derec\n",
            "ho a salir de cualquier pa#s, incluso el propio, y a regresar a su pa#s.  Art#culo 14  1. En caso de persecuci\n",
            "!n, toda persona tiene derecho a buscar asilo, y a disfrutar de \n",
            "$l, en cualquier pa#s.    2. Este derecho no podr\n",
            "\" ser invocado contra una acci!n judicial realmente \n",
            "originada por delitos comunes o por actos opuestos a los prop!sitos y principios de las Naciones Unidas.  \n",
            "Art#culo 15  1. Toda persona tiene dere\n",
            "cho a una nacionalidad.  2. A nadie se privar\n",
            "\" arbitrariamente de su nacionalidad ni del derecho a cambiar de nacionalidad.  Art#culo 16  1. Los hombres y las mujeres, a partir de la edad n\n",
            "%bil, tienen derecho, sin restricci!n alguna por motivos de raza, nacionalidad o religi!n, a casarse y fundar una familia; y disfrutar\"n de iguales derechos en cuanto al matrimonio, durante el matrimonio y en caso de disoluci\n",
            "!n del matrimonio.  2. S!lo mediante libre y pleno consentimiento de los futuros esposos podr\n",
            "\" contraerse el matrimonio.  3. La familia es el elemento natural\n",
            " y fundamental de la sociedad y tiene \n",
            "derecho a la protecci!n de la sociedad y del Estado.  Art#culo 17  1. Toda persona tiene derecho a la propi\n",
            "edad, individual y colectivamente.  \n",
            "2. Nadie ser\n",
            "\" privado arbitrariamente de su propiedad.  Art#culo 18  Toda persona tiene derecho a la libertad de pensamiento, de conciencia y de \n",
            "religi!n; este derecho incluye la libertad de cambiar de religi!n o de creencia, as# como la libertad de manifestar su religi!n o su creencia, individual y colectivamente, tanto en p\n",
            "%blico como en privado, por la ense&anza, la pr\"ctica, el culto y la observancia.    Art#culo 19  Todo individuo tiene derecho a la libertad de opini!n y de expresi!n; este derecho incluye el no ser molestado a causa de sus opiniones, el de investigar y \n",
            "recibir informaciones y opiniones, y el de difundirlas, sin limitaci!n de fronteras, por cualquier medio de expresi!n.  Art#culo 20  1. Toda persona tiene derec\n",
            "ho a la libertad de reuni!n y de asociaci!n pac#ficas.  2. Nadie podr\n",
            "\" ser obligado a pertenecer a una asociaci!n.  Art#culo 21  1. Toda persona tiene derecho a par\n",
            "ticipar en el gobierno de su pa#s, directamente o por medio de representantes libremente escogidos.  \n",
            "2. Toda persona tiene el derecho de acceso, en condiciones de igualdad, a \n",
            "las funciones p%blicas de su pa\n",
            "#s.  \n",
            "3. La voluntad del pueblo es la\n",
            " base de la autoridad del poder p%blico; esta voluntad se expresar\" mediante elecciones aut\n",
            "$nticas que habr\"n de celebrarse peri!dicamente, por sufragio universal e igual y por voto \n",
            "secreto u otro procedimiento equivalente que garantice la libertad del voto.  Art#culo 22  Toda persona, como miembro de la sociedad, tiene derecho a la seguridad social, y a obtener, mediante el esfuerzo nacional y la cooperaci!n internacional, \n",
            "habida cuenta de la organizaci\n",
            "!n y los recursos de cada Estado, la satisfacci!n de los derechos econ!micos, sociales y culturales, indispensables a su dignidad \n",
            "y al libre desarrollo de su personalidad.    Art#culo 23  1. Toda persona tiene derecho al \n",
            "trabajo, a la libre elecci!n de su trabajo, a condiciones equitativas y satisfacto\n",
            "rias de trabajo y a la protecci!n contra el desempleo. 2. Toda persona tiene derecho, sin discriminaci!n alguna, a igual salario por trabajo igual.  3. Toda persona que trabaja tiene derecho a una remuneraci\n",
            "!n equitativa y satisfactoria, que le asegure, as# como a su familia, una existencia conforme a la dignidad humana y que ser\" completada, en caso \n",
            "necesario, por cualesquiera otros medios de protecci\n",
            "!n social.  4. Toda persona tiene derecho a fundar \n",
            "sindicatos y a sindicarse para la \n",
            "defensa de sus intereses.  Art#culo 24  Toda persona tiene derecho al descanso, al disfrute del tiempo libre, a una limitaci!n razonable de la duraci!n del trabajo y a vacaciones peri!dicas pagadas.  Art#culo 25  1. Toda persona tiene derecho a un ni\n",
            "vel de vida adecuado que le asegure, as# como a su familia, la salud y el bienestar, y en especial la \n",
            "alimentaci!n, el vestido, la vivienda, la asistencia m$dica y los servicios sociales necesarios; tiene asimismo derecho a los seguros en caso de \n",
            "desempleo, enfermedad, invalidez, viudez, vejez y otros casos de p$rdida de sus medios de subsistencia por circunstancias independientes de su \n",
            "voluntad.  2. La maternidad y la infancia ti\n",
            "enen derecho a cuidados y asistencia especiales. Todos los ni\n",
            "&os, nacidos de matrimonio o fuera de matrimonio, tienen derecho a igual protecci!n social.    Art#culo 26  1. Toda persona tiene derecho a la educaci\n",
            "!n. La educaci!n debe ser gratuita, al menos en lo concerniente a la instrucci!n elemental y fundamental. La instrucci!n elemental ser\" obligatoria. La instrucci\n",
            "!n t$cnica y profesional habr\" de ser generalizada; el acceso a los estudios superiores ser\" igual para todos, en funci!n de los m$ritos respectivos.  2. La educaci\n",
            "!n tendr\" por objeto el pleno desarrollo de la personalidad \n",
            "humana y el fortalecimiento del respeto a los derechos humanos y a las libertades fundamentales; favorecer\" la comprensi!n, la tolerancia y la amistad entre todas las naciones y todos los grupos $tnicos o religiosos; y promover\" el desarrollo de las actividades de las Naciones Unidas para el \n",
            "mantenimiento de la paz.  3. Los padres tendr\n",
            "\"n derecho preferente a escoger el tipo de educaci!n que habr\" de darse a sus hijos.  Art#culo 27  1. Toda persona tiene derecho a tomar par\n",
            "te libremente en la vida cultural \n",
            "de la comunidad, a gozar de las artes y a participar en el progreso cient#fico y en los beneficios que de $l resulten.  2. Toda persona tiene derecho a la protecci\n",
            "!n de los intereses morales y materiales que le correspondan por raz!n de las producciones cient#ficas, literarias o art#sticas de que sea autora.  Art#culo 28  Toda persona tiene derecho a que se establezca un orden social e internacional en el que los derechos y libertades proclamados en esta Declaraci!n se hagan plenamente efectivos.  \n",
            "Art#culo 29    1. Toda persona tiene deberes respecto\n",
            " a la comunidad, puesto que s!lo en ella puede desarrollar libre y plenamente su personalidad.  2. En el ejercicio de sus derechos y en el disfrute de sus libertades, toda \n",
            "persona estar\n",
            "\" solamente sujeta a las limitaciones establecidas por la ley con el %nico fin de asegurar el reconocimiento y el respeto de los \n",
            "derechos y libertades de los dem\"s, y de satisfacer las justas exigencias de la moral, del orden p%blico y del bienestar general en una sociedad democr\"tica.  3. Estos derechos y libertades no podr\n",
            "\"n en ning%n caso ser ejercidos en oposici\n",
            "!n a los prop!sitos y principios de las Naciones Unidas. Art#culo 30  Nada en la presente Declaraci!n podr\" interpretarse en el sentido de que confiere derecho alguno al Estado, a un grupo o a una persona, para emprender y desarrollar actividades o realizar actos tendientes a la supresi!n de cualquiera de los derechos y libertades proclamados en esta Declaraci!n.   \n",
            " Declaraci!n Universal de Derechos Humanos \n",
            "Adoptada y proclamada por la As\n",
            "amblea General en su resoluci!n 217 A (III), de 10 de diciembre de 1948  Pre\n",
            "\"mbulo  Considerando que la libertad, la justicia y la paz en el mundo tienen por base el reconocimiento de la dignidad intr\n",
            "#nseca y de los derechos iguales e inalienables \n",
            "de todos los miembros de la familia humana,  \n",
            "Considerando que el desconocimiento y el menosprecio de los derechos humanos han originado actos de barbarie ultrajantes para la conciencia de la \n",
            "humanidad; y que se ha proclamado, como la aspiraci!n m\"s elevada del hombre, el advenimiento de un mundo en que los seres humanos, liberados del temor y de la miseria, disfruten de la libertad de palabra y de la libertad de \n",
            "creencias,  Considerando esencial que los derechos humanos sean protegidos por un r$gimen de Derecho, a fin de que el hombre no se vea compelido al supremo recurso de la rebeli!n contra la tiran#a y la opresi!n,  Considerando tambi$n esencial promover el desarrollo de relaciones amistosas \n",
            "entre las naciones,  Considerando que los pueblos de las Naciones Unidas han reafirmado en la Carta su fe en los derechos fundamentales del hombre, en la dignidad y el valor de la persona humana y en la igualdad de derechos de hombres y mujeres; y se \n",
            "han declarado resueltos a promover el progres\n",
            "o social y a elevar el nivel de vida dentro de un concepto m\"s amplio de la libertad,  Considerando que los Estados Miembros se han comprometido a asegurar, en cooperaci!n con la Organizaci\n",
            "!n de las Naciones Unidas, el respeto universal y efectivo a los derechos y libertades fundamentales del hombre, y  \n",
            "Considerando que una concepci!n com%n de estos derechos y libertades es de la mayor importancia para el pleno cumplimiento de dicho compromiso,  \n",
            "  La Asamblea General  Proclama la presente Declaraci\n",
            "!n Universal de Derechos Humanos como ideal com%n por el que todos los pueblos y naciones deben esforzarse, a fin de que tanto los individuos como las instituciones, inspir\"ndose constantemente en ella, promuevan, mediante la ense&anza y la educaci!n, el respeto a estos derechos y libertades, y aseguren, por medidas progresivas de car\n",
            "\"cter nacional e internacional, su reconocimiento y aplicaci\n",
            "!n universales y efectivos, tanto entre los pueblos de los Estados Miembros como \n",
            "entre los de los territorios colocados bajo su jurisdicci!n.  Art#culo 1  Todos los seres humanos nacen libres e iguales en dignidad y derechos y, \n",
            "dotados como est\"n de raz!n y conciencia, deben comportarse fraternalmente \n",
            "los unos con los otros.  Art#culo 2  Toda persona tiene los derechos y libert\n",
            "ades proclamados en esta Declaraci\n",
            "!n, sin distinci\n",
            "!n alguna de raza, color, sexo, idioma, religi!n, opini!n pol\n",
            "#tica o de cualquier otra #ndole, origen nacional o social, posici!n econ!mica, nacimiento o cualquier otra condici!n.  Adem\"s, no se har\" distinci!n alguna fundada en la condici!n pol#tica, jur#dica o internacional del pa#s o territorio de cuya jurisdicci!n dependa una persona, tanto si se trata de un pa#s independiente, como de un territorio bajo administraci\n",
            "!n fiduciaria, no aut!nomo o sometido a cualquier otra limitaci!n de soberan#a.  Art#culo 3  Todo individuo tiene derecho a la vida, a la libertad y a la seguridad de su \n",
            "persona.    Art#culo 4  Nadie estar\" sometido a esclavitud ni a servidumbre; la esclavitud y la trata de esclavos est\"n prohibidas en todas sus formas.  Art#culo 5  Nadie ser\" sometido a torturas ni a penas o tratos crueles, inhumanos o degradantes.  Art#culo 6  Todo ser humano tiene derecho, en todas partes, al reconocimiento de su personalidad jur#dica.  Art#culo 7  Todos son iguales ante la ley y tienen, sin distinci!n, derecho a igual protecci!n de la ley. Todos tienen derecho a igual protecci\n",
            "!n contra toda discriminaci\n",
            "!n que \n",
            "infrinja esta Declaraci\n",
            "!n y contra toda provocaci\n",
            "!n a tal discriminaci\n",
            "!n.  Art#culo 8  Toda persona tiene derecho a un recurso efectivo, ante los tribunales nacionales competentes, que la ampare contra actos que violen sus derechos fundamentales reconocidos por la constituci!n o por la ley.  Art#culo 9  Nadie podr\" ser arbitrariamente detenido, preso ni desterrado.  Art#culo 10  Toda persona tiene derecho, en condiciones de plena igualdad, a ser o\n",
            "#da p%blicamente y con justicia por un tribunal independiente e imparcial, para la \n",
            "  determinaci!n de sus derechos y obligaciones o para el examen de cualquier \n",
            "acusaci!n contra ella en materia penal.  Art#culo 11  1. Toda persona acusada de delito \n",
            "tiene derecho a que se presuma su \n",
            "inocencia mientras no se pruebe su cu\n",
            "lpabilidad, conforme a la ley y en juicio p\n",
            "%blico en el que se le hayan asegurado todas las garant#as necesarias para su defensa.  2. Nadie ser\n",
            "\" condenado por actos u omisiones que en el momento de cometerse no fueron delictivos seg%n el Derecho nacional o internacional. \n",
            "Tampoco se impondr\" pena m\"s grave que la aplicable en el momento de la comisi!n del delito.  Art#culo 12  Nadie ser\" objeto de injerencias arbitrarias en su vida privada, su familia, su domicilio o su correspondencia, ni de ataques a su honra o a su reputaci\n",
            "!n. Toda persona tiene derecho a la protecci!n de la ley contra tales injerencias o ataques.  Art#culo 13  1. Toda persona tiene derecho a circular \n",
            "libremente y a elegir su residencia \n",
            "en el territorio de un Estado.  2. Toda persona tiene derec\n",
            "ho a salir de cualquier pa#s, incluso el propio, y a regresar a su pa#s.  Art#culo 14  1. En caso de persecuci\n",
            "!n, toda persona tiene derecho a buscar asilo, y a disfrutar de \n",
            "$l, en cualquier pa#s.    2. Este derecho no podr\n",
            "\" ser invocado contra una acci!n judicial realmente \n",
            "originada por delitos comunes o por actos opuestos a los prop!sitos y principios de las Naciones Unidas.  \n",
            "Art#culo 15  1. Toda persona tiene dere\n",
            "cho a una nacionalidad.  2. A nadie se privar\n",
            "\" arbitrariamente de su nacionalidad ni del derecho a cambiar de nacionalidad.  Art#culo 16  1. Los hombres y las mujeres, a partir de la edad n\n",
            "%bil, tienen derecho, sin restricci!n alguna por motivos de raza, nacionalidad o religi!n, a casarse y fundar una familia; y disfrutar\"n de iguales derechos en cuanto al matrimonio, durante el matrimonio y en caso de disoluci\n",
            "!n del matrimonio.  2. S!lo mediante libre y pleno consentimiento de los futuros esposos podr\n",
            "\" contraerse el matrimonio.  3. La familia es el elemento natural\n",
            " y fundamental de la sociedad y tiene \n",
            "derecho a la protecci!n de la sociedad y del Estado.  Art#culo 17  1. Toda persona tiene derecho a la propi\n",
            "edad, individual y colectivamente.  \n",
            "2. Nadie ser\n",
            "\" privado arbitrariamente de su propiedad.  Art#culo 18  Toda persona tiene derecho a la libertad de pensamiento, de conciencia y de \n",
            "religi!n; este derecho incluye la libertad de cambiar de religi!n o de creencia, as# como la libertad de manifestar su religi!n o su creencia, individual y colectivamente, tanto en p\n",
            "%blico como en privado, por la ense&anza, la pr\"ctica, el culto y la observancia.    Art#culo 19  Todo individuo tiene derecho a la libertad de opini!n y de expresi!n; este derecho incluye el no ser molestado a causa de sus opiniones, el de investigar y \n",
            "recibir informaciones y opiniones, y el de difundirlas, sin limitaci!n de fronteras, por cualquier medio de expresi!n.  Art#culo 20  1. Toda persona tiene derec\n",
            "ho a la libertad de reuni!n y de asociaci!n pac#ficas.  2. Nadie podr\n",
            "\" ser obligado a pertenecer a una asociaci!n.  Art#culo 21  1. Toda persona tiene derecho a par\n",
            "ticipar en el gobierno de su pa#s, directamente o por medio de representantes libremente escogidos.  \n",
            "2. Toda persona tiene el derecho de acceso, en condiciones de igualdad, a \n",
            "las funciones p%blicas de su pa\n",
            "#s.  \n",
            "3. La voluntad del pueblo es la\n",
            " base de la autoridad del poder p%blico; esta voluntad se expresar\" mediante elecciones aut\n",
            "$nticas que habr\"n de celebrarse peri!dicamente, por sufragio universal e igual y por voto \n",
            "secreto u otro procedimiento equivalente que garantice la libertad del voto.  Art#culo 22  Toda persona, como miembro de la sociedad, tiene derecho a la seguridad social, y a obtener, mediante el esfuerzo nacional y la cooperaci!n internacional, \n",
            "habida cuenta de la organizaci\n",
            "!n y los recursos de cada Estado, la satisfacci!n de los derechos econ!micos, sociales y culturales, indispensables a su dignidad \n",
            "y al libre desarrollo de su personalidad.    Art#culo 23  1. Toda persona tiene derecho al \n",
            "trabajo, a la libre elecci!n de su trabajo, a condiciones equitativas y satisfacto\n",
            "rias de trabajo y a la protecci!n contra el desempleo. 2. Toda persona tiene derecho, sin discriminaci!n alguna, a igual salario por trabajo igual.  3. Toda persona que trabaja tiene derecho a una remuneraci\n",
            "!n equitativa y satisfactoria, que le asegure, as# como a su familia, una existencia conforme a la dignidad humana y que ser\" completada, en caso \n",
            "necesario, por cualesquiera otros medios de protecci\n",
            "!n social.  4. Toda persona tiene derecho a fundar \n",
            "sindicatos y a sindicarse para la \n",
            "defensa de sus intereses.  Art#culo 24  Toda persona tiene derecho al descanso, al disfrute del tiempo libre, a una limitaci!n razonable de la duraci!n del trabajo y a vacaciones peri!dicas pagadas.  Art#culo 25  1. Toda persona tiene derecho a un ni\n",
            "vel de vida adecuado que le asegure, as# como a su familia, la salud y el bienestar, y en especial la \n",
            "alimentaci!n, el vestido, la vivienda, la asistencia m$dica y los servicios sociales necesarios; tiene asimismo derecho a los seguros en caso de \n",
            "desempleo, enfermedad, invalidez, viudez, vejez y otros casos de p$rdida de sus medios de subsistencia por circunstancias independientes de su \n",
            "voluntad.  2. La maternidad y la infancia ti\n",
            "enen derecho a cuidados y asistencia especiales. Todos los ni\n",
            "&os, nacidos de matrimonio o fuera de matrimonio, tienen derecho a igual protecci!n social.    Art#culo 26  1. Toda persona tiene derecho a la educaci\n",
            "!n. La educaci!n debe ser gratuita, al menos en lo concerniente a la instrucci!n elemental y fundamental. La instrucci!n elemental ser\" obligatoria. La instrucci\n",
            "!n t$cnica y profesional habr\" de ser generalizada; el acceso a los estudios superiores ser\" igual para todos, en funci!n de los m$ritos respectivos.  2. La educaci\n",
            "!n tendr\" por objeto el pleno desarrollo de la personalidad \n",
            "humana y el fortalecimiento del respeto a los derechos humanos y a las libertades fundamentales; favorecer\" la comprensi!n, la tolerancia y la amistad entre todas las naciones y todos los grupos $tnicos o religiosos; y promover\" el desarrollo de las actividades de las Naciones Unidas para el \n",
            "mantenimiento de la paz.  3. Los padres tendr\n",
            "\"n derecho preferente a escoger el tipo de educaci!n que habr\" de darse a sus hijos.  Art#culo 27  1. Toda persona tiene derecho a tomar par\n",
            "te libremente en la vida cultural \n",
            "de la comunidad, a gozar de las artes y a participar en el progreso cient#fico y en los beneficios que de $l resulten.  2. Toda persona tiene derecho a la protecci\n",
            "!n de los intereses morales y materiales que le correspondan por raz!n de las producciones cient#ficas, literarias o art#sticas de que sea autora.  Art#culo 28  Toda persona tiene derecho a que se establezca un orden social e internacional en el que los derechos y libertades proclamados en esta Declaraci!n se hagan plenamente efectivos.  \n",
            "Art#culo 29    1. Toda persona tiene deberes respecto\n",
            " a la comunidad, puesto que s!lo en ella puede desarrollar libre y plenamente su personalidad.  2. En el ejercicio de sus derechos y en el disfrute de sus libertades, toda \n",
            "persona estar\n",
            "\" solamente sujeta a las limitaciones establecidas por la ley con el %nico fin de asegurar el reconocimiento y el respeto de los \n",
            "derechos y libertades de los dem\"s, y de satisfacer las justas exigencias de la moral, del orden p%blico y del bienestar general en una sociedad democr\"tica.  3. Estos derechos y libertades no podr\n",
            "\"n en ning%n caso ser ejercidos en oposici\n",
            "!n a los prop!sitos y principios de las Naciones Unidas. Art#culo 30  Nada en la presente Declaraci!n podr\" interpretarse en el sentido de que confiere derecho alguno al Estado, a un grupo o a una persona, para emprender y desarrollar actividades o realizar actos tendientes a la supresi!n de cualquiera de los derechos y libertades proclamados en esta Declaraci!n.   Articolo 29 \n",
            " 1. Ogni individuo ha dei doveri verso \n",
            "la comunità, nella quale soltanto è \n",
            "possibile il libero e pieno sviluppo della sua personalità.  2. Nell'esercizio dei suoi diritti\n",
            " e delle sue libertà, ognuno deve essere sottoposto soltanto a quelle limitazio\n",
            "ni che sono stabilite dalla legge per assicurare il riconoscimento e il rispetto dei diritti e delle libertà degli altri e per soddisfare le giuste esigenze della morale, dell'ordine pubblico e del benessere generale in una società democratica.  \n",
            "3. Questi diritti e queste libertà non possono in nessun caso essere \n",
            "esercitati in contrasto con i fini e principi delle Nazioni Unite.  Articolo 30 \n",
            " Nulla nella presente Dichiarazione può essere interpretato nel senso di implicare un diritto di un qualsiasi Stato, gruppo o persona di esercitare \n",
            "\n",
            "un'attività o di compiere un atto mirante alla distruzione di al\n",
            "cuno dei diritti e delle libertà in essa enunciati. \n"
          ]
        },
        {
          "output_type": "stream",
          "name": "stderr",
          "text": [
            "PdfReadWarning: Xref table not zero-indexed. ID numbers for objects will be corrected. [pdf.py:1736]\n"
          ]
        },
        {
          "output_type": "execute_result",
          "data": {
            "text/plain": [
              "13203"
            ]
          },
          "metadata": {},
          "execution_count": 31
        }
      ]
    },
    {
      "cell_type": "code",
      "source": [
        "filename: str = 'datos.txt'\n",
        "\n",
        "Compresor = Compresser(5000, 1000)\n",
        "Compresor.compress(filename)\n",
        "\n",
        "Compresor._compressed_string.fill()\n",
        "file_from_bin('compressed_file', Compresor._compressed_string)"
      ],
      "metadata": {
        "id": "O1jk4QIRAlg0"
      },
      "execution_count": 32,
      "outputs": []
    },
    {
      "cell_type": "code",
      "source": [
        "filename: str = 'compressed_file'\n",
        "\n",
        "Decompresor = Decompresser(5000, 1000)\n",
        "Decompresor.decompress(filename)\n",
        "\n",
        "file_from_bin('decompressed_file', Decompresor._decompressed_string)"
      ],
      "metadata": {
        "id": "65oi7I0ERCtx"
      },
      "execution_count": 33,
      "outputs": []
    }
  ]
}