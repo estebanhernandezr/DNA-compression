{
  "nbformat": 4,
  "nbformat_minor": 0,
  "metadata": {
    "colab": {
      "name": "Copia de gzip",
      "provenance": [],
      "collapsed_sections": [
        "g2qgiA6xLXec",
        "wg5I2natVs4G",
        "wb8xCfbXUXPN",
        "lYZbysoe7j-4"
      ],
      "authorship_tag": "ABX9TyP8ShjpcjQj/uE0mInYqqPw",
      "include_colab_link": true
    },
    "kernelspec": {
      "name": "python3",
      "display_name": "Python 3"
    },
    "language_info": {
      "name": "python"
    }
  },
  "cells": [
    {
      "cell_type": "markdown",
      "metadata": {
        "id": "view-in-github",
        "colab_type": "text"
      },
      "source": [
        "<a href=\"https://colab.research.google.com/github/estebanhernandezr/DNA-compression/blob/main/Copia_de_gzip.ipynb\" target=\"_parent\"><img src=\"https://colab.research.google.com/assets/colab-badge.svg\" alt=\"Open In Colab\"/></a>"
      ]
    },
    {
      "cell_type": "markdown",
      "source": [
        "# **Imports**"
      ],
      "metadata": {
        "id": "g2qgiA6xLXec"
      }
    },
    {
      "cell_type": "code",
      "source": [
        "pip install phylogeny"
      ],
      "metadata": {
        "colab": {
          "base_uri": "https://localhost:8080/"
        },
        "id": "hMlqwItBRgcP",
        "outputId": "5ed2fb0b-b0f8-4f52-cf62-9e30e853d92e"
      },
      "execution_count": 1,
      "outputs": [
        {
          "output_type": "stream",
          "name": "stdout",
          "text": [
            "Collecting phylogeny\n",
            "  Downloading phylogeny-0.1.1-py3-none-any.whl (30 kB)\n",
            "Requirement already satisfied: matplotlib in /usr/local/lib/python3.7/dist-packages (from phylogeny) (3.2.2)\n",
            "Requirement already satisfied: numpy in /usr/local/lib/python3.7/dist-packages (from phylogeny) (1.21.5)\n",
            "Collecting ete3\n",
            "  Downloading ete3-3.1.2.tar.gz (4.7 MB)\n",
            "\u001b[K     |████████████████████████████████| 4.7 MB 10.7 MB/s \n",
            "\u001b[?25hRequirement already satisfied: networkx in /usr/local/lib/python3.7/dist-packages (from phylogeny) (2.6.3)\n",
            "Requirement already satisfied: python-dateutil>=2.1 in /usr/local/lib/python3.7/dist-packages (from matplotlib->phylogeny) (2.8.2)\n",
            "Requirement already satisfied: cycler>=0.10 in /usr/local/lib/python3.7/dist-packages (from matplotlib->phylogeny) (0.11.0)\n",
            "Requirement already satisfied: kiwisolver>=1.0.1 in /usr/local/lib/python3.7/dist-packages (from matplotlib->phylogeny) (1.3.2)\n",
            "Requirement already satisfied: pyparsing!=2.0.4,!=2.1.2,!=2.1.6,>=2.0.1 in /usr/local/lib/python3.7/dist-packages (from matplotlib->phylogeny) (3.0.7)\n",
            "Requirement already satisfied: six>=1.5 in /usr/local/lib/python3.7/dist-packages (from python-dateutil>=2.1->matplotlib->phylogeny) (1.15.0)\n",
            "Building wheels for collected packages: ete3\n",
            "  Building wheel for ete3 (setup.py) ... \u001b[?25l\u001b[?25hdone\n",
            "  Created wheel for ete3: filename=ete3-3.1.2-py3-none-any.whl size=2273013 sha256=39fcd8823dc46adf00a5d67983fb0b01defcf82cdb610ff327b2cb249d483ff3\n",
            "  Stored in directory: /root/.cache/pip/wheels/17/fd/e2/6ac384d8c2484789304657dde01b96d7ab83f4f1dd96d266df\n",
            "Successfully built ete3\n",
            "Installing collected packages: ete3, phylogeny\n",
            "Successfully installed ete3-3.1.2 phylogeny-0.1.1\n"
          ]
        }
      ]
    },
    {
      "cell_type": "code",
      "source": [
        "pip install Bio"
      ],
      "metadata": {
        "colab": {
          "base_uri": "https://localhost:8080/"
        },
        "id": "ybXKbLJ8QSNo",
        "outputId": "9ccd2241-145c-479c-a396-8ae186d41232"
      },
      "execution_count": 2,
      "outputs": [
        {
          "output_type": "stream",
          "name": "stdout",
          "text": [
            "Collecting Bio\n",
            "  Downloading bio-1.3.3-py3-none-any.whl (271 kB)\n",
            "\u001b[K     |████████████████████████████████| 271 kB 8.3 MB/s \n",
            "\u001b[?25hCollecting biopython>=1.79\n",
            "  Downloading biopython-1.79-cp37-cp37m-manylinux_2_5_x86_64.manylinux1_x86_64.whl (2.3 MB)\n",
            "\u001b[K     |████████████████████████████████| 2.3 MB 29.9 MB/s \n",
            "\u001b[?25hCollecting mygene\n",
            "  Downloading mygene-3.2.2-py2.py3-none-any.whl (5.4 kB)\n",
            "Requirement already satisfied: requests in /usr/local/lib/python3.7/dist-packages (from Bio) (2.23.0)\n",
            "Requirement already satisfied: tqdm in /usr/local/lib/python3.7/dist-packages (from Bio) (4.63.0)\n",
            "Requirement already satisfied: numpy in /usr/local/lib/python3.7/dist-packages (from biopython>=1.79->Bio) (1.21.5)\n",
            "Collecting biothings-client>=0.2.6\n",
            "  Downloading biothings_client-0.2.6-py2.py3-none-any.whl (37 kB)\n",
            "Requirement already satisfied: urllib3!=1.25.0,!=1.25.1,<1.26,>=1.21.1 in /usr/local/lib/python3.7/dist-packages (from requests->Bio) (1.24.3)\n",
            "Requirement already satisfied: certifi>=2017.4.17 in /usr/local/lib/python3.7/dist-packages (from requests->Bio) (2021.10.8)\n",
            "Requirement already satisfied: chardet<4,>=3.0.2 in /usr/local/lib/python3.7/dist-packages (from requests->Bio) (3.0.4)\n",
            "Requirement already satisfied: idna<3,>=2.5 in /usr/local/lib/python3.7/dist-packages (from requests->Bio) (2.10)\n",
            "Installing collected packages: biothings-client, mygene, biopython, Bio\n",
            "Successfully installed Bio-1.3.3 biopython-1.79 biothings-client-0.2.6 mygene-3.2.2\n"
          ]
        }
      ]
    },
    {
      "cell_type": "code",
      "source": [
        "pip install slate3k"
      ],
      "metadata": {
        "colab": {
          "base_uri": "https://localhost:8080/"
        },
        "id": "nJe9R8buvsnA",
        "outputId": "ed43e053-1107-4b09-ad05-e4b6808aec8a"
      },
      "execution_count": 3,
      "outputs": [
        {
          "output_type": "stream",
          "name": "stdout",
          "text": [
            "Collecting slate3k\n",
            "  Downloading slate3k-0.5.3-py2.py3-none-any.whl (7.9 kB)\n",
            "Collecting pdfminer3k\n",
            "  Downloading pdfminer3k-1.3.4-py3-none-any.whl (100 kB)\n",
            "\u001b[K     |████████████████████████████████| 100 kB 4.6 MB/s \n",
            "\u001b[?25hCollecting ply\n",
            "  Downloading ply-3.11-py2.py3-none-any.whl (49 kB)\n",
            "\u001b[K     |████████████████████████████████| 49 kB 6.1 MB/s \n",
            "\u001b[?25hInstalling collected packages: ply, pdfminer3k, slate3k\n",
            "Successfully installed pdfminer3k-1.3.4 ply-3.11 slate3k-0.5.3\n"
          ]
        }
      ]
    },
    {
      "cell_type": "code",
      "source": [
        "pip install PyPDF3"
      ],
      "metadata": {
        "colab": {
          "base_uri": "https://localhost:8080/"
        },
        "id": "E0HFSYoqVxXj",
        "outputId": "ebc904a9-3c6a-4a96-8c3a-8e778fa5b49c"
      },
      "execution_count": 4,
      "outputs": [
        {
          "output_type": "stream",
          "name": "stdout",
          "text": [
            "Collecting PyPDF3\n",
            "  Downloading PyPDF3-1.0.6.tar.gz (294 kB)\n",
            "\u001b[?25l\r\u001b[K     |█▏                              | 10 kB 19.8 MB/s eta 0:00:01\r\u001b[K     |██▎                             | 20 kB 25.1 MB/s eta 0:00:01\r\u001b[K     |███▍                            | 30 kB 22.6 MB/s eta 0:00:01\r\u001b[K     |████▌                           | 40 kB 8.1 MB/s eta 0:00:01\r\u001b[K     |█████▋                          | 51 kB 6.7 MB/s eta 0:00:01\r\u001b[K     |██████▊                         | 61 kB 7.8 MB/s eta 0:00:01\r\u001b[K     |███████▉                        | 71 kB 8.8 MB/s eta 0:00:01\r\u001b[K     |█████████                       | 81 kB 8.0 MB/s eta 0:00:01\r\u001b[K     |██████████                      | 92 kB 8.8 MB/s eta 0:00:01\r\u001b[K     |███████████▏                    | 102 kB 8.6 MB/s eta 0:00:01\r\u001b[K     |████████████▎                   | 112 kB 8.6 MB/s eta 0:00:01\r\u001b[K     |█████████████▍                  | 122 kB 8.6 MB/s eta 0:00:01\r\u001b[K     |██████████████▌                 | 133 kB 8.6 MB/s eta 0:00:01\r\u001b[K     |███████████████▋                | 143 kB 8.6 MB/s eta 0:00:01\r\u001b[K     |████████████████▊               | 153 kB 8.6 MB/s eta 0:00:01\r\u001b[K     |█████████████████▉              | 163 kB 8.6 MB/s eta 0:00:01\r\u001b[K     |███████████████████             | 174 kB 8.6 MB/s eta 0:00:01\r\u001b[K     |████████████████████            | 184 kB 8.6 MB/s eta 0:00:01\r\u001b[K     |█████████████████████▏          | 194 kB 8.6 MB/s eta 0:00:01\r\u001b[K     |██████████████████████▎         | 204 kB 8.6 MB/s eta 0:00:01\r\u001b[K     |███████████████████████▍        | 215 kB 8.6 MB/s eta 0:00:01\r\u001b[K     |████████████████████████▌       | 225 kB 8.6 MB/s eta 0:00:01\r\u001b[K     |█████████████████████████▋      | 235 kB 8.6 MB/s eta 0:00:01\r\u001b[K     |██████████████████████████▊     | 245 kB 8.6 MB/s eta 0:00:01\r\u001b[K     |███████████████████████████▉    | 256 kB 8.6 MB/s eta 0:00:01\r\u001b[K     |█████████████████████████████   | 266 kB 8.6 MB/s eta 0:00:01\r\u001b[K     |██████████████████████████████  | 276 kB 8.6 MB/s eta 0:00:01\r\u001b[K     |███████████████████████████████▏| 286 kB 8.6 MB/s eta 0:00:01\r\u001b[K     |████████████████████████████████| 294 kB 8.6 MB/s \n",
            "\u001b[?25hRequirement already satisfied: tqdm in /usr/local/lib/python3.7/dist-packages (from PyPDF3) (4.63.0)\n",
            "Building wheels for collected packages: PyPDF3\n",
            "  Building wheel for PyPDF3 (setup.py) ... \u001b[?25l\u001b[?25hdone\n",
            "  Created wheel for PyPDF3: filename=PyPDF3-1.0.6-py3-none-any.whl size=62885 sha256=9c733e30a950ecd0175317abc53b619e97a5f5edeeb56da69e9913fcbb8e3868\n",
            "  Stored in directory: /root/.cache/pip/wheels/98/e9/28/80877f24d385035bf56cb22f12d7653203032491326858f1ce\n",
            "Successfully built PyPDF3\n",
            "Installing collected packages: PyPDF3\n",
            "Successfully installed PyPDF3-1.0.6\n"
          ]
        }
      ]
    },
    {
      "cell_type": "code",
      "source": [
        "import os"
      ],
      "metadata": {
        "id": "ZwYi-yDGLS2m"
      },
      "execution_count": 17,
      "outputs": []
    },
    {
      "cell_type": "code",
      "source": [
        "import PyPDF3\n",
        "import slate3k as slate\n",
        "from Bio import Phylo, AlignIO\n",
        "from Bio.Phylo.TreeConstruction import DistanceCalculator, DistanceTreeConstructor"
      ],
      "metadata": {
        "id": "z6Pvjmr0V5VJ"
      },
      "execution_count": 5,
      "outputs": []
    },
    {
      "cell_type": "markdown",
      "source": [
        "# **PDF2TXT**"
      ],
      "metadata": {
        "id": "wg5I2natVs4G"
      }
    },
    {
      "cell_type": "code",
      "source": [
        "def pdf2txt(filename, text='', ini=0, fin=0):\n",
        "    pdffileobj=open(filename,'rb')\n",
        "    pdfreader=PyPDF3.PdfFileReader(pdffileobj)\n",
        "    y=pdfreader.numPages\n",
        "    #print(\"num_pages:\", y)\n",
        "    if ini < 0:\n",
        "        x = y+ini\n",
        "    else:\n",
        "        x = ini\n",
        "    if fin < 0:\n",
        "        y = y+fin\n",
        "    else:\n",
        "        y = y-fin\n",
        "    print(\"X:\", x, \"--->\", \"Y:\", y)\n",
        "    for i in range(x, y):\n",
        "        pageobj=pdfreader.getPage(i)\n",
        "        print(\"appending...\", pageobj.extractText())\n",
        "        text+=pageobj.extractText()\n",
        "    #print(\"TEXTO:\", text)\n",
        "    return text"
      ],
      "metadata": {
        "id": "lH7X7ytCV7dt"
      },
      "execution_count": 6,
      "outputs": []
    },
    {
      "cell_type": "markdown",
      "source": [
        "# **GZIP**"
      ],
      "metadata": {
        "id": "wb8xCfbXUXPN"
      }
    },
    {
      "cell_type": "code",
      "execution_count": 7,
      "metadata": {
        "colab": {
          "base_uri": "https://localhost:8080/"
        },
        "id": "RqaRZM-M9RTg",
        "outputId": "5d1306c9-071e-471f-c0d4-49f8abf1b1ae"
      },
      "outputs": [
        {
          "output_type": "stream",
          "name": "stdout",
          "text": [
            "Collecting bitarray\n",
            "  Downloading bitarray-2.4.0-cp37-cp37m-manylinux_2_17_x86_64.manylinux2014_x86_64.whl (221 kB)\n",
            "\u001b[?25l\r\u001b[K     |█▌                              | 10 kB 19.4 MB/s eta 0:00:01\r\u001b[K     |███                             | 20 kB 23.6 MB/s eta 0:00:01\r\u001b[K     |████▍                           | 30 kB 29.3 MB/s eta 0:00:01\r\u001b[K     |██████                          | 40 kB 17.3 MB/s eta 0:00:01\r\u001b[K     |███████▍                        | 51 kB 6.9 MB/s eta 0:00:01\r\u001b[K     |████████▉                       | 61 kB 8.0 MB/s eta 0:00:01\r\u001b[K     |██████████▍                     | 71 kB 8.7 MB/s eta 0:00:01\r\u001b[K     |███████████▉                    | 81 kB 8.1 MB/s eta 0:00:01\r\u001b[K     |█████████████▎                  | 92 kB 8.8 MB/s eta 0:00:01\r\u001b[K     |██████████████▉                 | 102 kB 9.7 MB/s eta 0:00:01\r\u001b[K     |████████████████▎               | 112 kB 9.7 MB/s eta 0:00:01\r\u001b[K     |█████████████████▊              | 122 kB 9.7 MB/s eta 0:00:01\r\u001b[K     |███████████████████▎            | 133 kB 9.7 MB/s eta 0:00:01\r\u001b[K     |████████████████████▊           | 143 kB 9.7 MB/s eta 0:00:01\r\u001b[K     |██████████████████████▏         | 153 kB 9.7 MB/s eta 0:00:01\r\u001b[K     |███████████████████████▊        | 163 kB 9.7 MB/s eta 0:00:01\r\u001b[K     |█████████████████████████▏      | 174 kB 9.7 MB/s eta 0:00:01\r\u001b[K     |██████████████████████████▋     | 184 kB 9.7 MB/s eta 0:00:01\r\u001b[K     |████████████████████████████▏   | 194 kB 9.7 MB/s eta 0:00:01\r\u001b[K     |█████████████████████████████▋  | 204 kB 9.7 MB/s eta 0:00:01\r\u001b[K     |███████████████████████████████ | 215 kB 9.7 MB/s eta 0:00:01\r\u001b[K     |████████████████████████████████| 221 kB 9.7 MB/s \n",
            "\u001b[?25hInstalling collected packages: bitarray\n",
            "Successfully installed bitarray-2.4.0\n"
          ]
        }
      ],
      "source": [
        "pip install bitarray"
      ]
    },
    {
      "cell_type": "code",
      "source": [
        "from bitarray import *\n",
        "from typing import BinaryIO, Dict, Sequence, Tuple"
      ],
      "metadata": {
        "id": "6GA7cy8l9Zp_"
      },
      "execution_count": 8,
      "outputs": []
    },
    {
      "cell_type": "code",
      "source": [
        "# FUNCTIONS\n",
        "\n",
        "def data_from_file(filename: str) -> BinaryIO:\n",
        "    with open(filename, 'rb') as input_file:\n",
        "        filedata = input_file.read()\n",
        "    return filedata\n",
        "\n",
        "def file_from_bin(filename: str, buffer: bytearray) -> None:\n",
        "    with open(filename, 'wb') as outfile:\n",
        "        outfile.write(buffer)\n",
        "        return None\n",
        "\n",
        "def bin_from_file(filename: str) -> BinaryIO:\n",
        "    filedata: bytearray = bitarray(endian='big')\n",
        "    with open(filename, 'rb') as input_file:\n",
        "        filedata.fromfile(input_file)\n",
        "    return filedata\n",
        "\n",
        "def inipad(symb: int, padsize: int, cad: str) -> BinaryIO:\n",
        "    pad: bytearray = bytearray(chr(symb), 'utf-8')\n",
        "    for i in range(padsize-1):\n",
        "        pad.append(pad[0])\n",
        "    return pad + cad"
      ],
      "metadata": {
        "id": "rjBg9EsDKKdh"
      },
      "execution_count": 9,
      "outputs": []
    },
    {
      "cell_type": "code",
      "source": [
        "# COMPRESSER CLASS\n",
        "\n",
        "class Compresser:\n",
        "    _n: int\n",
        "    _Ls: int\n",
        "    _symb: int\n",
        "    _compressed_string: bytearray\n",
        "\n",
        "    _huffman_dictionary: Dict\n",
        "    _compressed_huffman: bytearray\n",
        "\n",
        "    def __init__(self, n: int, Ls: int):\n",
        "        if (n < 0 or Ls < 0):\n",
        "\t\t\t      raise ValueError(\"Negative buffer sizes\")\n",
        "\n",
        "        self._n = n\n",
        "        self._Ls = Ls\n",
        "        self._symb = 32\n",
        "        self._compressed_string = bitarray(endian='big')\n",
        "\n",
        "        self._huffman_dictionary = {}\n",
        "        self._compressed_huffman = bitarray(endian='big')\n",
        "\n",
        "    def codify_word(self, pos: int, size: int, char: chr=None) -> str:\n",
        "        n: int = self._n\n",
        "        Ls: int = self._Ls\n",
        "        codeword = \"{0:0{width}b}\".format(pos, width=len(\"{0:b}\".format(n)))\n",
        "        codeword += \"{0:0{width}b}\".format(size, width=len(\"{0:b}\".format(Ls)))\n",
        "        return codeword\n",
        "\n",
        "    def rep_extension(self, search: bytearray, lookahead: bytearray) -> Sequence[int]:\n",
        "        n: int = self._n\n",
        "        Ls: int = self._Ls\n",
        "        pos: int = -1\n",
        "        size: int = 0\n",
        "        char: chr = ''\n",
        "        for prefixsize in range(1, min(n-Ls, len(lookahead))):\n",
        "            prefix: str = lookahead[:prefixsize]\n",
        "            p: int = search.rfind(prefix, 0, (n-Ls)+prefixsize-1)\n",
        "            if p >= 0:\n",
        "                pos = p\n",
        "                size = prefixsize\n",
        "                char = lookahead[size]\n",
        "            else:\n",
        "                break\n",
        "        return pos, size, char\n",
        "\n",
        "    def codify_cad(self, cad: str) -> None:\n",
        "        n: int = self._n\n",
        "        Ls: int = self._Ls\n",
        "        symb: int = self._symb\n",
        "        dictionary: Dict = self._huffman_dictionary\n",
        "\n",
        "        pcad: bytearray = inipad(symb, n-Ls, cad)\n",
        "        i: int = 0\n",
        "        while i < len(pcad)-(n-Ls):\n",
        "            triple: Sequence[int] = self.rep_extension(pcad[i:i+n], pcad[i+n-Ls:i+n])\n",
        "            pos: int = triple[0]\n",
        "            size: int = triple[1]\n",
        "            if (pos >= 0 and size > 1):\n",
        "                self._compressed_string.append(True)\n",
        "                if \"{0:0{width}b}\".format(pos, width=len(\"{0:b}\".format(n))) in dictionary:\n",
        "                    huffman_code: str = dictionary[\"{0:0{width}b}\".format(pos,\n",
        "                                                                          width=len(\"{0:b}\".format(n)))]\n",
        "                    bin_code: str = huffman_code + \"{0:0{width}b}\".format(size,\n",
        "                                                                          width=len(\"{0:b}\".format(Ls)))\n",
        "                elif len(dictionary) == 0:\n",
        "                    bin_code: str = self.codify_word(pos, size)\n",
        "                \n",
        "                for bit in bin_code:\n",
        "                    if bit == '1':\n",
        "                        self._compressed_string.append(True)\n",
        "                    else:\n",
        "                        self._compressed_string.append(False)\n",
        "                i += size\n",
        "            else:\n",
        "                self._compressed_string.append(False)\n",
        "                self._compressed_string.frombytes(bytes([pcad[i+n-Ls]]))\n",
        "                i += 1\n",
        "        return None\n",
        "\n",
        "    def compress(self, filename: str) -> None:\n",
        "        filedata: bytearray = data_from_file(filename) #CHECKED\n",
        "        \n",
        "        #distances = get_distances(filedata) #CHECKED - HUFFMAN PART\n",
        "        #counts = bl_count_from_distances(distances) #CHECKED - HUFFMAN PART\n",
        "        #huffman_tree = create_huffman_tree(counts) #CHECKED - HUFFMAN PART\n",
        "        #dictionary = dictionary_from_tree(huffman_tree, '', codeDictionary) #CHECKED - HUFFMAN PART\n",
        "        #self._huffman_dictionary = dictionary\n",
        "\n",
        "        #self.codify_huffmantree(huffman_tree, treeBuffer) #CHECKED - HUFFMAN PART\n",
        "        self.codify_cad(filedata) #CHECKED\n",
        "\n",
        "        return None"
      ],
      "metadata": {
        "id": "oF20f25u9bj_"
      },
      "execution_count": 10,
      "outputs": []
    },
    {
      "cell_type": "code",
      "source": [
        "# DECOMPRESSER CLASS\n",
        "\n",
        "class Decompresser:\n",
        "    _n: int\n",
        "    _Ls: int\n",
        "    _symb: int\n",
        "    _decompressed_string: bitarray\n",
        "    \n",
        "    _huffman_dictionary: Dict\n",
        "    _decompressed_huffman: bitarray\n",
        "\n",
        "    def __init__(self, n: int, Ls: int):\n",
        "        if (n < 0 or Ls < 0):\n",
        "\t\t\t      raise ValueError(\"Negative buffer sizes\")\n",
        "\n",
        "        self._n = n\n",
        "        self._Ls = Ls\n",
        "        self._symb = 32\n",
        "        self._decompressed_string = bitarray(endian='big')\n",
        "\n",
        "        self._huffman_dictionary = {}\n",
        "        self._decompressed_huffman = bitarray(endian='big')\n",
        "\n",
        "    def decompress_cad(self, filedata: bytearray) -> None:\n",
        "        n: int = self._n\n",
        "        Ls: int = self._Ls\n",
        "        symb: int = self._symb\n",
        "        self._decompressed_string = inipad(symb, n-Ls, bytes())\n",
        "\n",
        "        k: int = 0\n",
        "        while len(filedata) >= 9:\n",
        "            flag_pair = filedata.pop(0)\n",
        "            if not flag_pair:\n",
        "                byte = filedata[0:8].tobytes()\n",
        "                self._decompressed_string += byte\n",
        "                del filedata[0:8]\n",
        "                k += 1\n",
        "            else:\n",
        "                position = ''\n",
        "                for i in range(0, len(\"{0:b}\".format(n))):\n",
        "                    bit = filedata.pop(0)\n",
        "                    if bit == True:\n",
        "                        position += '1'\n",
        "                    else:\n",
        "                        position += '0'\n",
        "\n",
        "                curbitsubstring = ''\n",
        "                stop = False\n",
        "                while len(self._huffman_dictionary) > 0 and stop == False:\n",
        "                    bit = filedata.pop(0)\n",
        "                    if bit == True:\n",
        "                        curbitsubstring+=\"1\"\n",
        "                    else:\n",
        "                        curbitsubstring+=\"0\"\n",
        "                    for key in self._huffman_dictionary:\n",
        "                        if self._huffman_dictionary[key] == str(curbitsubstring):\n",
        "                            position = key\n",
        "                            stop = True\n",
        "\n",
        "                length = ''\n",
        "                for i in range(0, len(\"{0:b}\".format(Ls))):\n",
        "                    bit = filedata.pop(0)\n",
        "                    if bit == True:\n",
        "                        length += '1'\n",
        "                    else:\n",
        "                        length += '0'\n",
        "\n",
        "                bestDistance = int(position, 2)\n",
        "                bestLength = int(length, 2)\n",
        "                for i in range(bestLength):\n",
        "                    self._decompressed_string.append(\n",
        "                        self._decompressed_string[k+bestDistance+i])\n",
        "                k += bestLength\n",
        "\n",
        "        self._decompressed_string = self._decompressed_string[n-Ls:]\n",
        "        return None\n",
        "\n",
        "    def decompress(self, filename: str):\n",
        "        filedata: bytearray = bin_from_file(filename)\n",
        "\n",
        "        #root = decodify_huffman_tree(filedata) - HUFFMAN PART\n",
        "        #dictionary_from_tree(root, '', codeDictionary) - HUFFMAN PART\n",
        "        \n",
        "        self.decompress_cad(filedata)"
      ],
      "metadata": {
        "id": "R0j6pGVjKFgw"
      },
      "execution_count": 11,
      "outputs": []
    },
    {
      "cell_type": "markdown",
      "source": [
        "# **MATRIX CONSTRUCTION**"
      ],
      "metadata": {
        "id": "lYZbysoe7j-4"
      }
    },
    {
      "cell_type": "code",
      "source": [
        "def calculate_delta(txt1, txt2, dicc):\n",
        "    L1 = dicc[txt1]\n",
        "    L2 = dicc[txt2]\n",
        "    delta = L1 - L2\n",
        "    return delta\n",
        "\n",
        "def calculate2(Aa, Ab, Ba, Bb, A, B, dicc):\n",
        "    deltaAb = calculate_delta(Ab, A, dicc)\n",
        "    deltaAa = calculate_delta(Aa, A, dicc)\n",
        "    deltaBa = calculate_delta(Ba, B, dicc)\n",
        "    deltaBb = calculate_delta(Bb, B, dicc)\n",
        "    \n",
        "    return ((deltaAb - deltaBb)/deltaBb)+((deltaBa-deltaAa)/deltaAa)"
      ],
      "metadata": {
        "id": "bdnePzNmLD6Z"
      },
      "execution_count": 21,
      "outputs": []
    },
    {
      "cell_type": "code",
      "source": [
        "def relat_entropy1(pdf_1, pdf_2, n, Ls):\n",
        "    m = 2500\n",
        "    with open(pdf_1, 'rb') as f:\n",
        "        txt_A = slate.PDF(f)\n",
        "    #print(txt_A)\n",
        "\n",
        "    with open(pdf_2, 'rb') as f:\n",
        "        txt_B = slate.PDF(f)\n",
        "    #print(txt_B)\n",
        "\n",
        "    txt_A = str(txt_A)\n",
        "    txt_B = str(txt_B)\n",
        "    txt_Aa = str(txt_A + txt_A[:-m])\n",
        "    txt_Bb = str(txt_B + txt_B[:-m])\n",
        "    txt_Ab = str(txt_A + txt_B[:-m])\n",
        "    txt_Ba = str(txt_B + txt_A[:-m])\n",
        "\n",
        "    file_A=open(\"TXTs/A.txt\", 'w')\n",
        "    file_A.write(txt_A)\n",
        "\n",
        "    file_Aa=open(\"TXTs/Aa.txt\", 'w')\n",
        "    file_Aa.write(txt_Aa)\n",
        "\n",
        "    file_B=open(\"TXTs/B.txt\", 'w')\n",
        "    file_B.write(txt_B)\n",
        "\n",
        "    file_Bb=open(\"TXTs/Bb.txt\", 'w')\n",
        "    file_Bb.write(txt_Bb)\n",
        "    \n",
        "    file_Ab=open(\"TXTs/Ab.txt\", 'w')\n",
        "    file_Ab.write(txt_Ab)\n",
        "\n",
        "    file_Ab=open(\"TXTs/Ba.txt\", 'w')\n",
        "    file_Ab.write(txt_Ba)\n",
        "\n",
        "    dictionario = {}\n",
        "\n",
        "    Compresor_A = Compresser(n, Ls)\n",
        "    Compresor_A.compress(\"TXTs/A.txt\")\n",
        "    dictionario[\"TXTs/A.txt\"]=len(Compresor_A._compressed_string)\n",
        "\n",
        "    Compresor_B = Compresser(n, Ls)\n",
        "    Compresor_B.compress(\"TXTs/B.txt\")\n",
        "    dictionario[\"TXTs/B.txt\"]=len(Compresor_B._compressed_string)\n",
        "\n",
        "    Compresor_Aa = Compresser(n, Ls)\n",
        "    Compresor_Aa.compress(\"TXTs/Aa.txt\")\n",
        "    dictionario[\"TXTs/Aa.txt\"]=len(Compresor_Aa._compressed_string)\n",
        "\n",
        "    Compresor_Bb = Compresser(n, Ls)\n",
        "    Compresor_Bb.compress(\"TXTs/Bb.txt\")\n",
        "    dictionario[\"TXTs/Bb.txt\"]=len(Compresor_Bb._compressed_string)\n",
        "\n",
        "    Compresor_Ab = Compresser(n, Ls)\n",
        "    Compresor_Ab.compress(\"TXTs/Ab.txt\")\n",
        "    dictionario[\"TXTs/Ab.txt\"]=len(Compresor_Ab._compressed_string)\n",
        "\n",
        "    Compresor_Ba = Compresser(n, Ls)\n",
        "    Compresor_Ba.compress(\"TXTs/Ba.txt\")\n",
        "    dictionario[\"TXTs/Ba.txt\"]=len(Compresor_Ba._compressed_string)\n",
        "\n",
        "    res = calculate2( 'TXTs/Aa.txt', 'TXTs/Ab.txt', 'TXTs/Ba.txt', 'TXTs/Bb.txt', 'TXTs/A.txt', 'TXTs/B.txt', dictionario)\n",
        "    #print(pdf_1, \"(\",(res),\")\", pdf_2)\n",
        "    #str_res = pdf_1 + \"  (\" + str(res) + \")  \" + pdf_2\n",
        "    return res"
      ],
      "metadata": {
        "id": "jKOJ-QBsxlWL"
      },
      "execution_count": 22,
      "outputs": []
    },
    {
      "cell_type": "code",
      "source": [
        "search = 2000\n",
        "ahead = 1000\n",
        "\n",
        "resultados = []\n",
        "\n",
        "path = '/content/PDFs/'\n",
        "dir_path = os.path.dirname(os.path.realpath(path))\n",
        "\n",
        "PDFs = []\n",
        "diccionario = {}\n",
        "for root, dirs, files in os.walk(dir_path):\n",
        "    for file_1 in files:\n",
        "        vect = []\n",
        "        for file_2 in files:\n",
        "          if file_1.endswith('.pdf') and file_2.endswith('.pdf'):\n",
        "              #resultados.append(relat_entropy1(path+file_1, path+file_2, search, ahead))\n",
        "              vect.append(relat_entropy1(path+file_1, path+file_2, search, ahead))\n",
        "        if file_1.endswith('.pdf'):\n",
        "            diccionario[file_1] = vect"
      ],
      "metadata": {
        "id": "5JW9ist2xmC-"
      },
      "execution_count": 23,
      "outputs": []
    },
    {
      "cell_type": "markdown",
      "source": [
        "# **PHYLOGENETIC TREE CONSTRUCTION**"
      ],
      "metadata": {
        "id": "VFqXBJpIKu1L"
      }
    },
    {
      "cell_type": "code",
      "source": [
        "def lower_triangular(matrix):\n",
        "    new_filas = []\n",
        "    for fila in matrix:\n",
        "        new_fila = []\n",
        "        for c in fila:\n",
        "            new_fila.append(c)\n",
        "            if c == 0:\n",
        "                break\n",
        "        new_filas.append(new_fila)\n",
        "    return new_filas"
      ],
      "metadata": {
        "id": "y-M9BG38aDwi"
      },
      "execution_count": 24,
      "outputs": []
    },
    {
      "cell_type": "code",
      "source": [
        "from Bio.Phylo.TreeConstruction import DistanceMatrix\n",
        "import numpy as np\n",
        "\n",
        "distM = [diccionario[key] for key in diccionario.keys()]\n",
        "nombres = [str(key)[:-4] for key in diccionario.keys()]\n",
        "distM = lower_triangular(distM)\n",
        "\n",
        "distMatrix = DistanceMatrix(names=nombres, matrix=distM)\n",
        "constructor = DistanceTreeConstructor()\n",
        "UGMATree = constructor.upgma(distMatrix)\n",
        "\n",
        "Phylo.draw(UGMATree)"
      ],
      "metadata": {
        "colab": {
          "base_uri": "https://localhost:8080/",
          "height": 279
        },
        "id": "QidK5rKxQD0l",
        "outputId": "1d20a8b0-2fcf-4361-cfe1-7914a5ee2361"
      },
      "execution_count": 28,
      "outputs": [
        {
          "output_type": "display_data",
          "data": {
            "text/plain": [
              "<Figure size 432x288 with 1 Axes>"
            ],
            "image/png": "[encoded data removed]"
          },
          "metadata": {
            "needs_background": "light"
          }
        }
      ]
    }
  ]
}